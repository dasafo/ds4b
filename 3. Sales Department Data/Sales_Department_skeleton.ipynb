{
 "cells": [
  {
   "cell_type": "markdown",
   "metadata": {
    "id": "M27qF7CTrBqc"
   },
   "source": [
    "# TASK #1: UNDERSTAND THE PROBLEM STATEMENT AND BUSINESS CASE"
   ]
  },
  {
   "cell_type": "markdown",
   "metadata": {
    "id": "Z2ZMlH-gtOxf"
   },
   "source": [
    "\n",
    "<table>\n",
    "  <tr><td>\n",
    "    <img src=\"https://drive.google.com/uc?id=1l7bHyrjzq839zVZE06cfdDksLabCN2hg\"\n",
    "         alt=\"Fashion MNIST sprite\"  width=\"1000\">\n",
    "  </td></tr>\n",
    "  <tr><td align=\"center\">\n",
    "    <b>Figure 1. Future Sales Time-series Prediction \n",
    "  </td></tr>\n",
    "</table>\n"
   ]
  },
  {
   "cell_type": "markdown",
   "metadata": {
    "id": "3O2y6H5Sk9dS"
   },
   "source": [
    "![alt text](https://drive.google.com/uc?id=1vi45x-LGEzwvJoQstierOC1QZ11QQUmS)"
   ]
  },
  {
   "cell_type": "markdown",
   "metadata": {
    "id": "653W5Abck9mf"
   },
   "source": [
    "![alt text](https://drive.google.com/uc?id=1eLLebiXwkN6x1dpsopQmkVNkR9zAYL7H)"
   ]
  },
  {
   "cell_type": "markdown",
   "metadata": {
    "id": "TkKF3voY7_r5"
   },
   "source": [
    "![alt text](https://drive.google.com/uc?id=1a_q_DC8NyGBmcrxE0sGV4r6Hl-0w6G0K)"
   ]
  },
  {
   "cell_type": "markdown",
   "metadata": {
    "id": "J2xNWhFz7_20"
   },
   "source": [
    "![alt text](https://drive.google.com/uc?id=1hNE0Wwc_bCCIO-AUAi6Xqo_9Bf1Xbh2o)"
   ]
  },
  {
   "cell_type": "markdown",
   "metadata": {
    "id": "-5jwMD3w8Aa2"
   },
   "source": [
    "![alt text](https://drive.google.com/uc?id=1lQVgHsXn4Ur61dgYul1G-CmseLLUCEOB)"
   ]
  },
  {
   "cell_type": "markdown",
   "metadata": {
    "id": "zKmFmyaGunc7"
   },
   "source": [
    "# TASK #2: IMPORT LIBRARIES AND DATASET "
   ]
  },
  {
   "cell_type": "code",
   "execution_count": null,
   "metadata": {
    "id": "S0Cx3743urFY"
   },
   "outputs": [],
   "source": []
  },
  {
   "cell_type": "code",
   "execution_count": null,
   "metadata": {
    "id": "5P_ciLXawMZg"
   },
   "outputs": [],
   "source": [
    "# You will need to mount your drive using the following commands:\n",
    "# For more information regarding mounting, please check this out: https://stackoverflow.com/questions/46986398/import-data-into-google-colaboratory\n",
    "\n"
   ]
  },
  {
   "cell_type": "markdown",
   "metadata": {
    "id": "IRU42d3vaYzm"
   },
   "source": [
    "TASK #2.1: IMPORT SALES TRAINING DATA"
   ]
  },
  {
   "cell_type": "code",
   "execution_count": null,
   "metadata": {
    "id": "tjIiJdM4u1IE"
   },
   "outputs": [],
   "source": [
    "# You have to include the full link to the csv file containing your dataset\n"
   ]
  },
  {
   "cell_type": "code",
   "execution_count": null,
   "metadata": {
    "id": "E7puy9-xxS4A"
   },
   "outputs": [],
   "source": [
    "sales_train_df.head(5)\n",
    "# almost a million observation \n",
    "# 1115 unique stores \n",
    "# Note that sales is the target variable (that's what we are trying to predict) \n",
    "\n",
    "# Id: transaction ID (combination of Store and date) \n",
    "# Store: unique store Id\n",
    "# Sales: sales/day, this is the target variable \n",
    "# Customers: number of customers on a given day\n",
    "# Open: Boolean to say whether a store is open or closed (0 = closed, 1 = open)\n",
    "# Promo: describes if store is running a promo on that day or not\n",
    "# StateHoliday: indicate which state holiday (a = public holiday, b = Easter holiday, c = Christmas, 0 = None)\n",
    "# SchoolHoliday: indicates if the (Store, Date) was affected by the closure of public schools\n",
    "# Data Source: https://www.kaggle.com/c/rossmann-store-sales/data\n",
    "\n"
   ]
  },
  {
   "cell_type": "code",
   "execution_count": null,
   "metadata": {
    "id": "RUt2ON_UxyYk"
   },
   "outputs": [],
   "source": []
  },
  {
   "cell_type": "code",
   "execution_count": null,
   "metadata": {
    "id": "hMq3-KWOx0e1"
   },
   "outputs": [],
   "source": [
    "# 9 columns in total \n",
    "# 8 features, each contains 1017209 data points\n",
    "# 1 target variable (sales)"
   ]
  },
  {
   "cell_type": "code",
   "execution_count": null,
   "metadata": {
    "id": "s0E9xPLdx2Ok"
   },
   "outputs": [],
   "source": [
    "# Average sales amount per day = 5773 Euros, minimum sales per day = 0, maximum sales per day = 41551 \n",
    "# Average number of customers = 633, minimum number of customers = 0, maximum number of customers = 7388"
   ]
  },
  {
   "cell_type": "markdown",
   "metadata": {
    "id": "eJ8D_qIRalvY"
   },
   "source": [
    "TASK #2.2: IMPORT STORE INFORMATION DATA"
   ]
  },
  {
   "cell_type": "code",
   "execution_count": null,
   "metadata": {
    "id": "TzfwLhLUazX1"
   },
   "outputs": [],
   "source": [
    "\n",
    "# StoreType: categorical variable to indicate type of store (a, b, c, d)\n",
    "# Assortment: describes an assortment level: a = basic, b = extra, c = extended\n",
    "# CompetitionDistance (meters): distance to closest competitor store\n",
    "# CompetitionOpenSince [Month/Year]: provides an estimate of the date when competition was open\n",
    "# Promo2: Promo2 is a continuing and consecutive promotion for some stores (0 = store is not participating, 1 = store is participating)\n",
    "# Promo2Since [Year/Week]: date when the store started participating in Promo2\n",
    "# PromoInterval: describes the consecutive intervals Promo2 is started, naming the months the promotion is started anew. E.g. \"Feb,May,Aug,Nov\" means each round starts in February, May, August, November of any given year for that store\n",
    "\n",
    "\n"
   ]
  },
  {
   "cell_type": "code",
   "execution_count": null,
   "metadata": {
    "id": "92SaSNJvkxqb"
   },
   "outputs": [],
   "source": []
  },
  {
   "cell_type": "code",
   "execution_count": null,
   "metadata": {
    "id": "A45D-v_0qJF0"
   },
   "outputs": [],
   "source": [
    "# Let's do the same for the store_info_df data\n",
    "# Note that the previous dataframe includes the transactions recorded per day (in millions)\n",
    "# This dataframe only includes information about the unique 1115 stores that are part of this study \n"
   ]
  },
  {
   "cell_type": "code",
   "execution_count": null,
   "metadata": {
    "id": "ey2G1N1FqJRR"
   },
   "outputs": [],
   "source": [
    "# on average, the competition distance is 5404 meters away (5.4 kms)"
   ]
  },
  {
   "cell_type": "code",
   "execution_count": null,
   "metadata": {
    "id": "icDs6kqoqvWL"
   },
   "outputs": [],
   "source": []
  },
  {
   "cell_type": "markdown",
   "metadata": {
    "id": "LlszUhNNyrl_"
   },
   "source": [
    "# TASK #3: EXPLORE DATASET"
   ]
  },
  {
   "cell_type": "markdown",
   "metadata": {
    "id": "DDuw6cEkZehx"
   },
   "source": [
    "TASK #3.1: EXPLORE SALES TRAINING DATA"
   ]
  },
  {
   "cell_type": "code",
   "execution_count": null,
   "metadata": {
    "id": "wThGn_F4k60c"
   },
   "outputs": [],
   "source": [
    "# Let's see if we have any missing data, luckily we don't!\n"
   ]
  },
  {
   "cell_type": "code",
   "execution_count": null,
   "metadata": {
    "id": "t3BY8FxelGIP"
   },
   "outputs": [],
   "source": [
    "# Average 600 customers per day, maximum is 4500 (note that we can't see the outlier at 7388!)\n",
    "# Data is equally distibuted across various Days of the week (~150000 observations x 7 day = ~1.1 million observation) \n",
    "# Stores are open ~80% of the time\n",
    "# Data is equally distributed among all stores (no bias)\n",
    "# Promo #1 was running ~40% of the time \n",
    "# Average sales around 5000-6000 Euros\n",
    "# School holidays are around ~18% of the time\n",
    "\n"
   ]
  },
  {
   "cell_type": "code",
   "execution_count": null,
   "metadata": {
    "id": "kP8opr7YzJ_d"
   },
   "outputs": [],
   "source": []
  },
  {
   "cell_type": "code",
   "execution_count": null,
   "metadata": {
    "id": "-5qvu70o5oAI"
   },
   "outputs": [],
   "source": [
    "# Let's see how many stores are open and closed! \n"
   ]
  },
  {
   "cell_type": "code",
   "execution_count": null,
   "metadata": {
    "id": "uBDltyUy5o1L"
   },
   "outputs": [],
   "source": [
    "# Count the number of stores that are open and closed\n"
   ]
  },
  {
   "cell_type": "code",
   "execution_count": null,
   "metadata": {
    "id": "BfDQRuNj4_b8"
   },
   "outputs": [],
   "source": [
    "# only keep open stores and remove closed stores\n"
   ]
  },
  {
   "cell_type": "code",
   "execution_count": null,
   "metadata": {
    "id": "GsBQng4uok30"
   },
   "outputs": [],
   "source": []
  },
  {
   "cell_type": "code",
   "execution_count": null,
   "metadata": {
    "id": "GvRoygK4pf7M"
   },
   "outputs": [],
   "source": [
    "# Let's drop the open column since it has no meaning now\n"
   ]
  },
  {
   "cell_type": "code",
   "execution_count": null,
   "metadata": {
    "id": "jI5r7ZM5pwM6"
   },
   "outputs": [],
   "source": []
  },
  {
   "cell_type": "code",
   "execution_count": null,
   "metadata": {
    "id": "B5SXd3txxv7V"
   },
   "outputs": [],
   "source": [
    "# Average sales = 6955 Euros,\taverage number of customers = 762\t(went up)"
   ]
  },
  {
   "cell_type": "markdown",
   "metadata": {
    "id": "ZahU74KlZtlW"
   },
   "source": [
    "TASK #3.2: EXPLORE STORES INFORMATION DATA"
   ]
  },
  {
   "cell_type": "code",
   "execution_count": null,
   "metadata": {
    "id": "1BJlRJj0rCOg"
   },
   "outputs": [],
   "source": [
    "# Let's see if we have any missing data in the store information dataframe!\n"
   ]
  },
  {
   "cell_type": "code",
   "execution_count": null,
   "metadata": {
    "id": "auxnWnW4dib5"
   },
   "outputs": [],
   "source": [
    "# Let's take a look at the missing values in the 'CompetitionDistance'\n",
    "# Only 3 rows are missing \n"
   ]
  },
  {
   "cell_type": "code",
   "execution_count": null,
   "metadata": {
    "id": "D6DUDWUFe3aw"
   },
   "outputs": [],
   "source": [
    "# Let's take a look at the missing values in the 'CompetitionOpenSinceMonth'\n",
    "# many rows are missing = 354 (almost one third of the 1115 stores)\n"
   ]
  },
  {
   "cell_type": "code",
   "execution_count": null,
   "metadata": {
    "id": "kf56pKPM2hfm"
   },
   "outputs": [],
   "source": []
  },
  {
   "cell_type": "code",
   "execution_count": null,
   "metadata": {
    "id": "yr1YMhZjgJ0k"
   },
   "outputs": [],
   "source": [
    "# It seems like if 'promo2' is zero, 'promo2SinceWeek', 'Promo2SinceYear', and 'PromoInterval' information is set to zero\n",
    "# There are 354 rows where 'CompetitionOpenSinceYear' and 'CompetitionOpenSinceMonth' is missing\n",
    "# Let's set these values to zeros \n"
   ]
  },
  {
   "cell_type": "code",
   "execution_count": null,
   "metadata": {
    "id": "s-haJvqUhTYe"
   },
   "outputs": [],
   "source": []
  },
  {
   "cell_type": "code",
   "execution_count": null,
   "metadata": {
    "id": "wJm_hfpNkFJd"
   },
   "outputs": [],
   "source": [
    "# There are 3 rows with 'competitionDistance' values missing, let's fill them up with with average values of the 'CompetitionDistance' column\n"
   ]
  },
  {
   "cell_type": "code",
   "execution_count": null,
   "metadata": {
    "id": "Mu2dJhtsmDEG"
   },
   "outputs": [],
   "source": []
  },
  {
   "cell_type": "code",
   "execution_count": null,
   "metadata": {
    "id": "jAlKp0rTrCdW"
   },
   "outputs": [],
   "source": [
    "# half of stores are involved in promo 2\n",
    "# half of the stores have their competition at a distance of 0-3000m (3 kms away)"
   ]
  },
  {
   "cell_type": "markdown",
   "metadata": {
    "id": "i6sJonGln2iC"
   },
   "source": [
    "TASK #3.3: EXPLORE MERGED DATASET "
   ]
  },
  {
   "cell_type": "code",
   "execution_count": null,
   "metadata": {
    "id": "Gkuk3GM2ucpc"
   },
   "outputs": [],
   "source": [
    "# Let's merge both data frames together based on 'store'\n"
   ]
  },
  {
   "cell_type": "code",
   "execution_count": null,
   "metadata": {
    "id": "fyhB3BGku-Ny"
   },
   "outputs": [],
   "source": []
  },
  {
   "cell_type": "code",
   "execution_count": null,
   "metadata": {
    "id": "c6UiAqTkKD85"
   },
   "outputs": [],
   "source": [
    "\n",
    "# customers and promo are positively correlated with the sales \n",
    "# Promo2 does not seem to be effective at all "
   ]
  },
  {
   "cell_type": "code",
   "execution_count": null,
   "metadata": {
    "id": "zBy4m89a08Sj"
   },
   "outputs": [],
   "source": [
    "\n",
    "# Customers/Prmo2 and sales are strongly correlated "
   ]
  },
  {
   "cell_type": "code",
   "execution_count": null,
   "metadata": {
    "id": "hKVqck-sqn-k"
   },
   "outputs": [],
   "source": [
    "# Let's separate the year and put it into a separate column \n"
   ]
  },
  {
   "cell_type": "code",
   "execution_count": null,
   "metadata": {
    "id": "YH1shh1grvs4"
   },
   "outputs": [],
   "source": []
  },
  {
   "cell_type": "code",
   "execution_count": null,
   "metadata": {
    "id": "nybqRzqAr67_"
   },
   "outputs": [],
   "source": [
    "# Let's do the same for the Day and Month\n"
   ]
  },
  {
   "cell_type": "code",
   "execution_count": null,
   "metadata": {
    "id": "IdRdqBWhsEkj"
   },
   "outputs": [],
   "source": []
  },
  {
   "cell_type": "code",
   "execution_count": null,
   "metadata": {
    "id": "obSN0pN3sP_L"
   },
   "outputs": [],
   "source": [
    "# Let's take a look at the average sales and number of customers per month \n",
    "# 'groupby' works great by grouping all the data that share the same month column, then obtain the mean of the sales column  \n",
    "# It looks like sales and number of customers peak around christmas timeframe\n",
    "\n"
   ]
  },
  {
   "cell_type": "code",
   "execution_count": null,
   "metadata": {
    "id": "3RoxwwX9zydn"
   },
   "outputs": [],
   "source": [
    "# Let's take a look at the sales and customers per day of the month instead\n",
    "# Minimum number of customers are generally around the 24th of the month \n",
    "# Most customers and sales are around 30th and 1st of the month\n",
    "\n"
   ]
  },
  {
   "cell_type": "code",
   "execution_count": null,
   "metadata": {
    "id": "RdNPmxos18wF"
   },
   "outputs": [],
   "source": [
    "# Let's do the same for the day of the week  (note that 7 = Sunday)\n",
    "\n"
   ]
  },
  {
   "cell_type": "code",
   "execution_count": null,
   "metadata": {
    "id": "5OHUts90uLkp"
   },
   "outputs": [],
   "source": []
  },
  {
   "cell_type": "code",
   "execution_count": null,
   "metadata": {
    "id": "kxG6ejjM4QIu"
   },
   "outputs": [],
   "source": []
  },
  {
   "cell_type": "code",
   "execution_count": null,
   "metadata": {
    "id": "vG1MKNlHUeQW"
   },
   "outputs": [],
   "source": []
  },
  {
   "cell_type": "markdown",
   "metadata": {
    "id": "53qDZFRn3-S1"
   },
   "source": [
    "# TASK #4: UNDERSTAND THE INTUITION BEHIND FACEBOOK PROPHET"
   ]
  },
  {
   "cell_type": "markdown",
   "metadata": {
    "id": "aabh8NCIlzGJ"
   },
   "source": [
    "![alt text](https://drive.google.com/uc?id=1I4lBgLaqERF_-lpGYLuht02wJmwcLGG-)"
   ]
  },
  {
   "cell_type": "markdown",
   "metadata": {
    "id": "OEaG3L1Rl4oi"
   },
   "source": [
    "![alt text](https://drive.google.com/uc?id=1CZ24f-TbnRzaXV9Arke0fNTUm7Kon1gK)"
   ]
  },
  {
   "cell_type": "markdown",
   "metadata": {
    "id": "rW-8HbAdmAwA"
   },
   "source": [
    "![alt text](https://drive.google.com/uc?id=16gaoTeeuU5PxNZRHt8n2XyFJ52ft1xb7)"
   ]
  },
  {
   "cell_type": "markdown",
   "metadata": {
    "id": "rD7llllklpEG"
   },
   "source": [
    "# TASK #5: TRAIN THE MODEL PART A"
   ]
  },
  {
   "cell_type": "code",
   "execution_count": null,
   "metadata": {
    "id": "pCw6Tq60DCRI"
   },
   "outputs": [],
   "source": [
    "# import prophet "
   ]
  },
  {
   "cell_type": "code",
   "execution_count": null,
   "metadata": {
    "id": "WFii_1-b_xGf"
   },
   "outputs": [],
   "source": []
  },
  {
   "cell_type": "code",
   "execution_count": null,
   "metadata": {
    "id": "k2Zv3i-mBbC_"
   },
   "outputs": [],
   "source": []
  },
  {
   "cell_type": "markdown",
   "metadata": {
    "id": "XgNgJ_VvIG1w"
   },
   "source": [
    "# TASK #6: TRAIN THE MODEL PART B"
   ]
  },
  {
   "cell_type": "markdown",
   "metadata": {
    "id": "KIPJxfxZJI6S"
   },
   "source": [
    "\n",
    "   - StateHoliday: indicates a state holiday. Normally all stores, with few exceptions, are closed on state holidays. Note that all schools are closed on public holidays and weekends. a = public holiday, b = Easter holiday, c = Christmas, 0 = None\n",
    "   - SchoolHoliday: indicates if the (Store, Date) was affected by the closure of public schools\n",
    "  \n",
    "\n",
    "\n",
    "\n",
    "\n"
   ]
  },
  {
   "cell_type": "code",
   "execution_count": null,
   "metadata": {
    "id": "E2NgKTupBa9S"
   },
   "outputs": [],
   "source": []
  },
  {
   "cell_type": "code",
   "execution_count": null,
   "metadata": {
    "id": "K2JIwssFIkEL"
   },
   "outputs": [],
   "source": [
    "# Get all the dates pertaining to school holidays \n"
   ]
  },
  {
   "cell_type": "code",
   "execution_count": null,
   "metadata": {
    "id": "D8GT7wzdKQUE"
   },
   "outputs": [],
   "source": []
  },
  {
   "cell_type": "code",
   "execution_count": null,
   "metadata": {
    "id": "QEkc-IKLKQ6g"
   },
   "outputs": [],
   "source": [
    "# Get all the dates pertaining to state holidays \n"
   ]
  },
  {
   "cell_type": "code",
   "execution_count": null,
   "metadata": {
    "id": "YPYEYvU0MC7y"
   },
   "outputs": [],
   "source": []
  },
  {
   "cell_type": "code",
   "execution_count": null,
   "metadata": {
    "id": "WJVGG2xJMf3S"
   },
   "outputs": [],
   "source": []
  },
  {
   "cell_type": "code",
   "execution_count": null,
   "metadata": {
    "id": "ap59cCGLMrRm"
   },
   "outputs": [],
   "source": []
  },
  {
   "cell_type": "code",
   "execution_count": null,
   "metadata": {
    "id": "wGXuPQJLM33f"
   },
   "outputs": [],
   "source": []
  },
  {
   "cell_type": "code",
   "execution_count": null,
   "metadata": {
    "id": "uJ1nRbgaKQ9U"
   },
   "outputs": [],
   "source": [
    "# concatenate both school and state holidays \n"
   ]
  },
  {
   "cell_type": "code",
   "execution_count": null,
   "metadata": {
    "id": "oCZbAdZ9NYIt"
   },
   "outputs": [],
   "source": []
  },
  {
   "cell_type": "code",
   "execution_count": null,
   "metadata": {
    "id": "20StJuEQNfDx"
   },
   "outputs": [],
   "source": [
    "# Let's make predictions using holidays for a specific store\n"
   ]
  },
  {
   "cell_type": "markdown",
   "metadata": {
    "id": "0qi5JcBAQN0K"
   },
   "source": [
    "# EXCELLENT JOB!"
   ]
  }
 ],
 "metadata": {
  "colab": {
   "collapsed_sections": [],
   "name": "Sales Department skeleton",
   "provenance": []
  },
  "kernelspec": {
   "display_name": "Python 3",
   "language": "python",
   "name": "python3"
  },
  "language_info": {
   "codemirror_mode": {
    "name": "ipython",
    "version": 3
   },
   "file_extension": ".py",
   "mimetype": "text/x-python",
   "name": "python",
   "nbconvert_exporter": "python",
   "pygments_lexer": "ipython3",
   "version": "3.7.6"
  },
  "toc": {
   "base_numbering": 1,
   "nav_menu": {},
   "number_sections": true,
   "sideBar": true,
   "skip_h1_title": false,
   "title_cell": "Table of Contents",
   "title_sidebar": "Contents",
   "toc_cell": false,
   "toc_position": {},
   "toc_section_display": true,
   "toc_window_display": false
  }
 },
 "nbformat": 4,
 "nbformat_minor": 1
}
