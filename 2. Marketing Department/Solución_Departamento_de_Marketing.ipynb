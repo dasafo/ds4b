{
 "cells": [
  {
   "cell_type": "markdown",
   "metadata": {
    "id": "M27qF7CTrBqc"
   },
   "source": [
    "# TAREA #1: ENTENDER EL ENUNCIADO DEL PROBLEMA Y EL CASO PRÁCTICO"
   ]
  },
  {
   "cell_type": "markdown",
   "metadata": {
    "id": "Z2ZMlH-gtOxf"
   },
   "source": [
    "\n",
    "<table>\n",
    "  <tr><td>\n",
    "    <img src=\"https://drive.google.com/uc?id=1OjWCpwRHlCSNYaJoUUd2QGryT9CoQJ5e\"\n",
    "         alt=\"Fashion MNIST sprite\"  width=\"1000\">\n",
    "  </td></tr>\n",
    "  <tr><td align=\"center\">\n",
    "    <b>Figura 1. Segmentación de Clientes\n",
    "  </td></tr>\n",
    "</table>\n"
   ]
  },
  {
   "cell_type": "markdown",
   "metadata": {
    "id": "yz94HFrMh28F"
   },
   "source": [
    "![alt text](https://drive.google.com/uc?id=1TlILFEVGZHessjmKkUMWL4NHlZ0DcHQb)"
   ]
  },
  {
   "cell_type": "markdown",
   "metadata": {
    "id": "O3vkL3mvlEh3"
   },
   "source": [
    "![alt text](https://drive.google.com/uc?id=1KaI1zjhARTFAs6X6VwqdsYZecd5EYDMw)"
   ]
  },
  {
   "cell_type": "markdown",
   "metadata": {
    "id": "vWfXjUMslMbQ"
   },
   "source": [
    "![alt text](https://drive.google.com/uc?id=1Q46sKROZf7jqKus0TfL7agQ5ZnzECiws)"
   ]
  },
  {
   "cell_type": "markdown",
   "metadata": {
    "id": "j6EjJbb0lT10"
   },
   "source": [
    "![alt text](https://drive.google.com/uc?id=1zJX7y-J2jhIL17Lh7OroOZvrlblI0u1s)"
   ]
  },
  {
   "cell_type": "markdown",
   "metadata": {
    "id": "LoahpVBUldg5"
   },
   "source": [
    "![alt text](https://drive.google.com/uc?id=1L03HfNPXpLdLlKHk_I6FIj_ahPCuPL0S)"
   ]
  },
  {
   "cell_type": "markdown",
   "metadata": {
    "id": "BN1kxUYplkYJ"
   },
   "source": [
    "![alt text](https://drive.google.com/uc?id=1i-OPyUph2PGuuZ5FtN0hGX3BkEXCAQNM)"
   ]
  },
  {
   "cell_type": "markdown",
   "metadata": {
    "id": "G6tcZoAqIBS4"
   },
   "source": [
    "Data Source: https://www.kaggle.com/arjunbhasin2013/ccdata"
   ]
  },
  {
   "cell_type": "markdown",
   "metadata": {
    "id": "zKmFmyaGunc7"
   },
   "source": [
    "# TAREA #2: IMPORTAR LAS LIBRERÍAS Y LOS DATASETS"
   ]
  },
  {
   "cell_type": "code",
   "execution_count": 1,
   "metadata": {
    "id": "S0Cx3743urFY"
   },
   "outputs": [],
   "source": [
    "import pandas as pd\n",
    "import numpy as np\n",
    "import seaborn as sns\n",
    "import matplotlib.pyplot as plt\n",
    "from sklearn.preprocessing import StandardScaler, normalize\n",
    "from sklearn.cluster import KMeans\n",
    "from sklearn.decomposition import PCA\n"
   ]
  },
  {
   "cell_type": "code",
   "execution_count": 2,
   "metadata": {
    "colab": {
     "base_uri": "https://localhost:8080/",
     "height": 35
    },
    "id": "5P_ciLXawMZg",
    "outputId": "fd202bba-c5fb-475b-9967-bdf99fa8d299"
   },
   "outputs": [],
   "source": [
    "creditcard_df = pd.read_csv(\"Marketing_data.csv\")\n"
   ]
  },
  {
   "cell_type": "code",
   "execution_count": 3,
   "metadata": {
    "id": "tjIiJdM4u1IE"
   },
   "outputs": [
    {
     "ename": "FileNotFoundError",
     "evalue": "[Errno 2] File /content/drive/My Drive/Curso de Data Science para Empresas/2. Marketing Department/Marketing_data.csv does not exist: '/content/drive/My Drive/Curso de Data Science para Empresas/2. Marketing Department/Marketing_data.csv'",
     "output_type": "error",
     "traceback": [
      "\u001b[0;31m---------------------------------------------------------------------------\u001b[0m",
      "\u001b[0;31mFileNotFoundError\u001b[0m                         Traceback (most recent call last)",
      "\u001b[0;32m<ipython-input-3-7328119f18b3>\u001b[0m in \u001b[0;36m<module>\u001b[0;34m\u001b[0m\n\u001b[1;32m      1\u001b[0m \u001b[0;31m# Incluye el link al archivo CSV donde has almacenado tu dataset\u001b[0m\u001b[0;34m\u001b[0m\u001b[0;34m\u001b[0m\u001b[0;34m\u001b[0m\u001b[0m\n\u001b[0;32m----> 2\u001b[0;31m \u001b[0mcreditcard_df\u001b[0m \u001b[0;34m=\u001b[0m \u001b[0mpd\u001b[0m\u001b[0;34m.\u001b[0m\u001b[0mread_csv\u001b[0m\u001b[0;34m(\u001b[0m\u001b[0;34m\"/content/drive/My Drive/Curso de Data Science para Empresas/2. Marketing Department/Marketing_data.csv\"\u001b[0m\u001b[0;34m)\u001b[0m\u001b[0;34m\u001b[0m\u001b[0;34m\u001b[0m\u001b[0m\n\u001b[0m\u001b[1;32m      3\u001b[0m \u001b[0;31m# CUSTID: Identificación del titular de la tarjeta de crédito\u001b[0m\u001b[0;34m\u001b[0m\u001b[0;34m\u001b[0m\u001b[0;34m\u001b[0m\u001b[0m\n\u001b[1;32m      4\u001b[0m \u001b[0;31m# BALANCE: Cantidad de saldo que queda en la cuenta del cliente para hacer compras\u001b[0m\u001b[0;34m\u001b[0m\u001b[0;34m\u001b[0m\u001b[0;34m\u001b[0m\u001b[0m\n\u001b[1;32m      5\u001b[0m \u001b[0;31m# BALANCE_FREQUENCY: Frecuencia de la actualización del saldo, puntuación entre 0 y 1 (1 = actualizado con frecuencia, 0 = no actualizado con frecuencia)\u001b[0m\u001b[0;34m\u001b[0m\u001b[0;34m\u001b[0m\u001b[0;34m\u001b[0m\u001b[0m\n",
      "\u001b[0;32m~/anaconda3/lib/python3.7/site-packages/pandas/io/parsers.py\u001b[0m in \u001b[0;36mparser_f\u001b[0;34m(filepath_or_buffer, sep, delimiter, header, names, index_col, usecols, squeeze, prefix, mangle_dupe_cols, dtype, engine, converters, true_values, false_values, skipinitialspace, skiprows, skipfooter, nrows, na_values, keep_default_na, na_filter, verbose, skip_blank_lines, parse_dates, infer_datetime_format, keep_date_col, date_parser, dayfirst, cache_dates, iterator, chunksize, compression, thousands, decimal, lineterminator, quotechar, quoting, doublequote, escapechar, comment, encoding, dialect, error_bad_lines, warn_bad_lines, delim_whitespace, low_memory, memory_map, float_precision)\u001b[0m\n\u001b[1;32m    674\u001b[0m         )\n\u001b[1;32m    675\u001b[0m \u001b[0;34m\u001b[0m\u001b[0m\n\u001b[0;32m--> 676\u001b[0;31m         \u001b[0;32mreturn\u001b[0m \u001b[0m_read\u001b[0m\u001b[0;34m(\u001b[0m\u001b[0mfilepath_or_buffer\u001b[0m\u001b[0;34m,\u001b[0m \u001b[0mkwds\u001b[0m\u001b[0;34m)\u001b[0m\u001b[0;34m\u001b[0m\u001b[0;34m\u001b[0m\u001b[0m\n\u001b[0m\u001b[1;32m    677\u001b[0m \u001b[0;34m\u001b[0m\u001b[0m\n\u001b[1;32m    678\u001b[0m     \u001b[0mparser_f\u001b[0m\u001b[0;34m.\u001b[0m\u001b[0m__name__\u001b[0m \u001b[0;34m=\u001b[0m \u001b[0mname\u001b[0m\u001b[0;34m\u001b[0m\u001b[0;34m\u001b[0m\u001b[0m\n",
      "\u001b[0;32m~/anaconda3/lib/python3.7/site-packages/pandas/io/parsers.py\u001b[0m in \u001b[0;36m_read\u001b[0;34m(filepath_or_buffer, kwds)\u001b[0m\n\u001b[1;32m    446\u001b[0m \u001b[0;34m\u001b[0m\u001b[0m\n\u001b[1;32m    447\u001b[0m     \u001b[0;31m# Create the parser.\u001b[0m\u001b[0;34m\u001b[0m\u001b[0;34m\u001b[0m\u001b[0;34m\u001b[0m\u001b[0m\n\u001b[0;32m--> 448\u001b[0;31m     \u001b[0mparser\u001b[0m \u001b[0;34m=\u001b[0m \u001b[0mTextFileReader\u001b[0m\u001b[0;34m(\u001b[0m\u001b[0mfp_or_buf\u001b[0m\u001b[0;34m,\u001b[0m \u001b[0;34m**\u001b[0m\u001b[0mkwds\u001b[0m\u001b[0;34m)\u001b[0m\u001b[0;34m\u001b[0m\u001b[0;34m\u001b[0m\u001b[0m\n\u001b[0m\u001b[1;32m    449\u001b[0m \u001b[0;34m\u001b[0m\u001b[0m\n\u001b[1;32m    450\u001b[0m     \u001b[0;32mif\u001b[0m \u001b[0mchunksize\u001b[0m \u001b[0;32mor\u001b[0m \u001b[0miterator\u001b[0m\u001b[0;34m:\u001b[0m\u001b[0;34m\u001b[0m\u001b[0;34m\u001b[0m\u001b[0m\n",
      "\u001b[0;32m~/anaconda3/lib/python3.7/site-packages/pandas/io/parsers.py\u001b[0m in \u001b[0;36m__init__\u001b[0;34m(self, f, engine, **kwds)\u001b[0m\n\u001b[1;32m    878\u001b[0m             \u001b[0mself\u001b[0m\u001b[0;34m.\u001b[0m\u001b[0moptions\u001b[0m\u001b[0;34m[\u001b[0m\u001b[0;34m\"has_index_names\"\u001b[0m\u001b[0;34m]\u001b[0m \u001b[0;34m=\u001b[0m \u001b[0mkwds\u001b[0m\u001b[0;34m[\u001b[0m\u001b[0;34m\"has_index_names\"\u001b[0m\u001b[0;34m]\u001b[0m\u001b[0;34m\u001b[0m\u001b[0;34m\u001b[0m\u001b[0m\n\u001b[1;32m    879\u001b[0m \u001b[0;34m\u001b[0m\u001b[0m\n\u001b[0;32m--> 880\u001b[0;31m         \u001b[0mself\u001b[0m\u001b[0;34m.\u001b[0m\u001b[0m_make_engine\u001b[0m\u001b[0;34m(\u001b[0m\u001b[0mself\u001b[0m\u001b[0;34m.\u001b[0m\u001b[0mengine\u001b[0m\u001b[0;34m)\u001b[0m\u001b[0;34m\u001b[0m\u001b[0;34m\u001b[0m\u001b[0m\n\u001b[0m\u001b[1;32m    881\u001b[0m \u001b[0;34m\u001b[0m\u001b[0m\n\u001b[1;32m    882\u001b[0m     \u001b[0;32mdef\u001b[0m \u001b[0mclose\u001b[0m\u001b[0;34m(\u001b[0m\u001b[0mself\u001b[0m\u001b[0;34m)\u001b[0m\u001b[0;34m:\u001b[0m\u001b[0;34m\u001b[0m\u001b[0;34m\u001b[0m\u001b[0m\n",
      "\u001b[0;32m~/anaconda3/lib/python3.7/site-packages/pandas/io/parsers.py\u001b[0m in \u001b[0;36m_make_engine\u001b[0;34m(self, engine)\u001b[0m\n\u001b[1;32m   1112\u001b[0m     \u001b[0;32mdef\u001b[0m \u001b[0m_make_engine\u001b[0m\u001b[0;34m(\u001b[0m\u001b[0mself\u001b[0m\u001b[0;34m,\u001b[0m \u001b[0mengine\u001b[0m\u001b[0;34m=\u001b[0m\u001b[0;34m\"c\"\u001b[0m\u001b[0;34m)\u001b[0m\u001b[0;34m:\u001b[0m\u001b[0;34m\u001b[0m\u001b[0;34m\u001b[0m\u001b[0m\n\u001b[1;32m   1113\u001b[0m         \u001b[0;32mif\u001b[0m \u001b[0mengine\u001b[0m \u001b[0;34m==\u001b[0m \u001b[0;34m\"c\"\u001b[0m\u001b[0;34m:\u001b[0m\u001b[0;34m\u001b[0m\u001b[0;34m\u001b[0m\u001b[0m\n\u001b[0;32m-> 1114\u001b[0;31m             \u001b[0mself\u001b[0m\u001b[0;34m.\u001b[0m\u001b[0m_engine\u001b[0m \u001b[0;34m=\u001b[0m \u001b[0mCParserWrapper\u001b[0m\u001b[0;34m(\u001b[0m\u001b[0mself\u001b[0m\u001b[0;34m.\u001b[0m\u001b[0mf\u001b[0m\u001b[0;34m,\u001b[0m \u001b[0;34m**\u001b[0m\u001b[0mself\u001b[0m\u001b[0;34m.\u001b[0m\u001b[0moptions\u001b[0m\u001b[0;34m)\u001b[0m\u001b[0;34m\u001b[0m\u001b[0;34m\u001b[0m\u001b[0m\n\u001b[0m\u001b[1;32m   1115\u001b[0m         \u001b[0;32melse\u001b[0m\u001b[0;34m:\u001b[0m\u001b[0;34m\u001b[0m\u001b[0;34m\u001b[0m\u001b[0m\n\u001b[1;32m   1116\u001b[0m             \u001b[0;32mif\u001b[0m \u001b[0mengine\u001b[0m \u001b[0;34m==\u001b[0m \u001b[0;34m\"python\"\u001b[0m\u001b[0;34m:\u001b[0m\u001b[0;34m\u001b[0m\u001b[0;34m\u001b[0m\u001b[0m\n",
      "\u001b[0;32m~/anaconda3/lib/python3.7/site-packages/pandas/io/parsers.py\u001b[0m in \u001b[0;36m__init__\u001b[0;34m(self, src, **kwds)\u001b[0m\n\u001b[1;32m   1889\u001b[0m         \u001b[0mkwds\u001b[0m\u001b[0;34m[\u001b[0m\u001b[0;34m\"usecols\"\u001b[0m\u001b[0;34m]\u001b[0m \u001b[0;34m=\u001b[0m \u001b[0mself\u001b[0m\u001b[0;34m.\u001b[0m\u001b[0musecols\u001b[0m\u001b[0;34m\u001b[0m\u001b[0;34m\u001b[0m\u001b[0m\n\u001b[1;32m   1890\u001b[0m \u001b[0;34m\u001b[0m\u001b[0m\n\u001b[0;32m-> 1891\u001b[0;31m         \u001b[0mself\u001b[0m\u001b[0;34m.\u001b[0m\u001b[0m_reader\u001b[0m \u001b[0;34m=\u001b[0m \u001b[0mparsers\u001b[0m\u001b[0;34m.\u001b[0m\u001b[0mTextReader\u001b[0m\u001b[0;34m(\u001b[0m\u001b[0msrc\u001b[0m\u001b[0;34m,\u001b[0m \u001b[0;34m**\u001b[0m\u001b[0mkwds\u001b[0m\u001b[0;34m)\u001b[0m\u001b[0;34m\u001b[0m\u001b[0;34m\u001b[0m\u001b[0m\n\u001b[0m\u001b[1;32m   1892\u001b[0m         \u001b[0mself\u001b[0m\u001b[0;34m.\u001b[0m\u001b[0munnamed_cols\u001b[0m \u001b[0;34m=\u001b[0m \u001b[0mself\u001b[0m\u001b[0;34m.\u001b[0m\u001b[0m_reader\u001b[0m\u001b[0;34m.\u001b[0m\u001b[0munnamed_cols\u001b[0m\u001b[0;34m\u001b[0m\u001b[0;34m\u001b[0m\u001b[0m\n\u001b[1;32m   1893\u001b[0m \u001b[0;34m\u001b[0m\u001b[0m\n",
      "\u001b[0;32mpandas/_libs/parsers.pyx\u001b[0m in \u001b[0;36mpandas._libs.parsers.TextReader.__cinit__\u001b[0;34m()\u001b[0m\n",
      "\u001b[0;32mpandas/_libs/parsers.pyx\u001b[0m in \u001b[0;36mpandas._libs.parsers.TextReader._setup_parser_source\u001b[0;34m()\u001b[0m\n",
      "\u001b[0;31mFileNotFoundError\u001b[0m: [Errno 2] File /content/drive/My Drive/Curso de Data Science para Empresas/2. Marketing Department/Marketing_data.csv does not exist: '/content/drive/My Drive/Curso de Data Science para Empresas/2. Marketing Department/Marketing_data.csv'"
     ]
    }
   ],
   "source": [
    "# Incluye el link al archivo CSV donde has almacenado tu dataset\n",
    "# creditcard_df = pd.read_csv(\"/content/drive/My Drive/Curso de Data Science para Empresas/2. Marketing Department/Marketing_data.csv\")\n",
    "# CUSTID: Identificación del titular de la tarjeta de crédito\n",
    "# BALANCE: Cantidad de saldo que queda en la cuenta del cliente para hacer compras\n",
    "# BALANCE_FREQUENCY: Frecuencia de la actualización del saldo, puntuación entre 0 y 1 (1 = actualizado con frecuencia, 0 = no actualizado con frecuencia)\n",
    "# PURCHASES: Cantidad de compras realizadas desde la cuenta\n",
    "# ONEOFFPURCHASES: Importe máximo de compra realizado en una sola vez\n",
    "# INSTALLMENTS_PURCHASES: Importe de la compra realizada en cuotas\n",
    "# CASH_ADVANCE: Anticipo otorgado al usuario\n",
    "# PURCHASES_FREQUENCY: frecuencia con la que se realizan las compras, puntuación entre 0 y 1 (1 = compras frecuentes, 0 = compras no frecuentes)\n",
    "# PURCHASES_FREQUENCY: Frecuencia de las Compras se están realizando, puntuación entre 0 y 1 (1 = compra con frecuencia, 0 = no compra con frecuencia)\n",
    "# ONEOFF_PURCHASES_FREQUENCY: Con qué frecuencia las compras se realizan de una sola vez (1 = compra con frecuencia, 0 = no compra con frecuencia)\n",
    "# PURCHASES_INSTALLMENTS_FREQUENCY: Con qué frecuencia se realizan las compras a plazos (1 = se realizan con frecuencia, 0 = no se realizan con frecuencia)\n",
    "# CASH_ADVANCE_FREQUENCY: con qué frecuencia el gasto se paga por adelantado\n",
    "# CASH_ADVANCE_TRX: número de transacciones realizadas con \"Efectivo por adelantado\"\n",
    "# PURCHASES_TRX: número de transacciones de compras realizadas\n",
    "# CREDIT_LIMIT: límite de tarjeta de crédito para el usuario\n",
    "# PAYMENTS: Número de pagos realizados por el usuario\n",
    "# MINIMUM_PAYMENTS: cantidad mínima de pagos realizados por el usuario\n",
    "# PRC_FULL_PAYMENT: porcentaje del pago total pagado por el usuario\n",
    "# TENURE: Años que el usuario lleva usando el servicio de tarjeta de crédito"
   ]
  },
  {
   "cell_type": "code",
   "execution_count": null,
   "metadata": {
    "colab": {
     "base_uri": "https://localhost:8080/",
     "height": 435
    },
    "id": "6eNlcsldDYZY",
    "outputId": "2047e90f-512b-4e15-b0ea-ca4e0c8cef54"
   },
   "outputs": [],
   "source": [
    "creditcard_df"
   ]
  },
  {
   "cell_type": "code",
   "execution_count": null,
   "metadata": {
    "colab": {
     "base_uri": "https://localhost:8080/",
     "height": 451
    },
    "id": "-0tFiVYSFSCV",
    "outputId": "452640df-791e-4791-b119-bb48b7945cea"
   },
   "outputs": [],
   "source": [
    "creditcard_df.info()"
   ]
  },
  {
   "cell_type": "code",
   "execution_count": null,
   "metadata": {
    "colab": {
     "base_uri": "https://localhost:8080/",
     "height": 314
    },
    "id": "s0E9xPLdx2Ok",
    "outputId": "18913eff-dd29-4530-ff33-0880ed898c40"
   },
   "outputs": [],
   "source": [
    "creditcard_df.describe()\n",
    "\n",
    "# El balance medio es $1564 \n",
    "# La frecuencia del balance se actualiza bastante a menudo, en promedio ~0.9\n",
    "# El promedio de las compras es $1000\n",
    "# El importe máximo de compra no recurrente es en promedio ~$600\n",
    "# El promedio de la frecuencia de las compras está cerca de 0.5\n",
    "# El promedio de ONEOFF_PURCHASES_FREQUENCY, PURCHASES_INSTALLMENTS_FREQUENCY, y CASH_ADVANCE_FREQUENCY es en general bajo\n",
    "# El promedio del límite de crédito es ~ 4500\n",
    "# El porcentaje de pago completo es 15%\n",
    "# Los clientes llevan de promedio en el servicio 11 años"
   ]
  },
  {
   "cell_type": "code",
   "execution_count": null,
   "metadata": {
    "colab": {
     "base_uri": "https://localhost:8080/",
     "height": 99
    },
    "id": "MA5bKvr7KxI8",
    "outputId": "c6a7b42e-1699-4ef1-f272-c1f08adb7a73"
   },
   "outputs": [],
   "source": [
    "# Vamos a investigar quien ha hecho una compra de $40761!\n",
    "creditcard_df[creditcard_df[\"ONEOFF_PURCHASES\"] == 40761.25]"
   ]
  },
  {
   "cell_type": "code",
   "execution_count": null,
   "metadata": {
    "colab": {
     "base_uri": "https://localhost:8080/",
     "height": 35
    },
    "id": "RBiutRGLL9HH",
    "outputId": "61beb88b-ab24-480f-f354-8fb56503d3d3"
   },
   "outputs": [],
   "source": [
    "creditcard_df['CASH_ADVANCE'].max()"
   ]
  },
  {
   "cell_type": "code",
   "execution_count": null,
   "metadata": {
    "colab": {
     "base_uri": "https://localhost:8080/",
     "height": 99
    },
    "id": "FAIfPnCLLnjw",
    "outputId": "161c4ca6-72a2-40a0-aa6d-fa6e9f1d86b4"
   },
   "outputs": [],
   "source": [
    "# Vamos a ver quien pago por anticipado $47137!\n",
    "# Este cliente hizo un total de 123 transacciones por adelantado!!\n",
    "# Nunca paga sus compras completamente con la tarjeta\n",
    "\n",
    "creditcard_df[creditcard_df['CASH_ADVANCE'] == 47137.211760000006]"
   ]
  },
  {
   "cell_type": "markdown",
   "metadata": {
    "id": "LlszUhNNyrl_"
   },
   "source": [
    "# TAREA #3: VISUALIZACIÓN DEL DATASET"
   ]
  },
  {
   "cell_type": "code",
   "execution_count": null,
   "metadata": {
    "colab": {
     "base_uri": "https://localhost:8080/",
     "height": 477
    },
    "id": "ICj3NLbqqmve",
    "outputId": "38cb8b94-e5e0-4101-f54f-8e6ea41c39b1"
   },
   "outputs": [],
   "source": [
    "# Comprobemos a ver si tenemos datos faltantes, esperemos que no!\n",
    "sns.heatmap(creditcard_df.isnull(), yticklabels=False, cbar = False, cmap = \"Blues\")"
   ]
  },
  {
   "cell_type": "code",
   "execution_count": null,
   "metadata": {
    "colab": {
     "base_uri": "https://localhost:8080/",
     "height": 347
    },
    "id": "70XopgWwMmHG",
    "outputId": "d9a606fb-bed1-4ca2-a2d7-159b31f63103"
   },
   "outputs": [],
   "source": [
    "creditcard_df.isnull().sum()"
   ]
  },
  {
   "cell_type": "code",
   "execution_count": null,
   "metadata": {
    "id": "wboxbIPwT7Wi"
   },
   "outputs": [],
   "source": [
    "# Vamos a rellenar los datos faltantes con el promedio del campo 'MINIMUM_PAYMENT' \n",
    "creditcard_df.loc[(creditcard_df['MINIMUM_PAYMENTS'].isnull() == True), 'MINIMUM_PAYMENTS'] = creditcard_df['MINIMUM_PAYMENTS'].mean()"
   ]
  },
  {
   "cell_type": "code",
   "execution_count": null,
   "metadata": {
    "id": "ciOq-cYxMw8P"
   },
   "outputs": [],
   "source": [
    "# Vamos a rellenar los datos faltantes con el promedio del campo 'CREDIT_LIMIT' \n",
    "creditcard_df.loc[(creditcard_df['CREDIT_LIMIT'].isnull() == True), 'CREDIT_LIMIT'] = creditcard_df['CREDIT_LIMIT'].mean()"
   ]
  },
  {
   "cell_type": "code",
   "execution_count": null,
   "metadata": {
    "colab": {
     "base_uri": "https://localhost:8080/",
     "height": 477
    },
    "id": "H-c9kqOSUU1t",
    "outputId": "5beb8b84-6f16-4d13-fb7f-7e718a227079"
   },
   "outputs": [],
   "source": [
    "sns.heatmap(creditcard_df.isnull(), yticklabels=False, cbar = False, cmap = \"Blues\")"
   ]
  },
  {
   "cell_type": "code",
   "execution_count": null,
   "metadata": {
    "colab": {
     "base_uri": "https://localhost:8080/",
     "height": 35
    },
    "id": "zFIXGFrucdCl",
    "outputId": "3fff5f22-7a33-48f5-f896-56dd1b6be0b5"
   },
   "outputs": [],
   "source": [
    "# Varifiquemos si tenemos entradas duplicadas en nuestros datos \n",
    "creditcard_df.duplicated().sum()"
   ]
  },
  {
   "cell_type": "code",
   "execution_count": null,
   "metadata": {
    "id": "onSLJRBtcohW"
   },
   "outputs": [],
   "source": [
    "# Podemos deshacernos del campo Customer ID ya que no nos sirve para nada \n",
    "creditcard_df.drop(\"CUST_ID\", axis = 1, inplace=True)"
   ]
  },
  {
   "cell_type": "code",
   "execution_count": null,
   "metadata": {
    "colab": {
     "base_uri": "https://localhost:8080/",
     "height": 222
    },
    "id": "PSzpvJgWcxnu",
    "outputId": "3c799a31-373c-460f-8d6f-e19502320a0f"
   },
   "outputs": [],
   "source": [
    "creditcard_df.head()"
   ]
  },
  {
   "cell_type": "code",
   "execution_count": null,
   "metadata": {
    "colab": {
     "base_uri": "https://localhost:8080/",
     "height": 35
    },
    "id": "QIw-jGI9NOCg",
    "outputId": "1dff529a-b5dc-4aae-c4df-daf8ec098830"
   },
   "outputs": [],
   "source": [
    "n = len(creditcard_df.columns)\n",
    "n"
   ]
  },
  {
   "cell_type": "code",
   "execution_count": null,
   "metadata": {
    "colab": {
     "base_uri": "https://localhost:8080/",
     "height": 139
    },
    "id": "fIOb3930ONKS",
    "outputId": "0ba70ba1-7317-464e-d175-985e1be1c071"
   },
   "outputs": [],
   "source": [
    "creditcard_df.columns"
   ]
  },
  {
   "cell_type": "code",
   "execution_count": null,
   "metadata": {
    "colab": {
     "base_uri": "https://localhost:8080/",
     "height": 1000
    },
    "id": "rFmjikf6ONgu",
    "outputId": "5edbb6b9-73a7-47d3-c991-bdfb8e85bcf2"
   },
   "outputs": [],
   "source": [
    "# distplot combina la función matplotlib.hist con la de seaborn kdeplot()\n",
    "# KDE Plot representa la Kernel Density Estimate\n",
    "# KDE se utiliza para visualizar la densidad de una probabilidad de una variable continua. \n",
    "# KDE nos muestra la densidad de una probabilidad para diferentes valores de una variable continua. \n",
    "\n",
    "# El balance promedio es  $1500\n",
    "# 'Balance_Frequency' para muchos usuarios se actualiza muy frecuentemente ~1\n",
    "# Para el campo 'PURCHASES_FREQUENCY', hay dos grupos diferentes de clientes\n",
    "# Para los campos 'ONEOFF_PURCHASES_FREQUENCY' y 'PURCHASES_INSTALLMENT_FREQUENCY' la gran mayoría de usuarios no pagan todo de golpe ni a plazos\n",
    "# Muy pocos clientes pagan su deuda al completo 'PRC_FULL_PAYMENT'~0\n",
    "# El promedio del límite del crédito está entorno de los $4500\n",
    "# La mayoría de clientes llevan ~11 años usando el servicio\n",
    "\n",
    "plt.figure(figsize = (10, 50))\n",
    "for i in range(n):\n",
    "    plt.subplot(n, 1, i+1)\n",
    "    sns.distplot(creditcard_df[creditcard_df.columns[i]], kde_kws = {\"color\": \"b\", \"lw\": 3, \"label\": \"KDE\"}, hist_kws={\"color\": \"g\"})\n",
    "    plt.title(creditcard_df.columns[i])\n",
    "\n",
    "plt.tight_layout()"
   ]
  },
  {
   "cell_type": "code",
   "execution_count": null,
   "metadata": {
    "id": "bnGS8pC1UsN9"
   },
   "outputs": [],
   "source": [
    "# sns.pairplot(creditcard_df)\n",
    "# Hay correlación entre 'PURCHASES' y ONEOFF_PURCHASES & INSTALMENT_PURCHASES \n",
    "# Se ve una tendencia entre 'PURCHASES' y 'CREDIT_LIMIT' & 'PAYMENTS'\n"
   ]
  },
  {
   "cell_type": "code",
   "execution_count": null,
   "metadata": {
    "id": "c6UiAqTkKD85"
   },
   "outputs": [],
   "source": [
    "correlations = creditcard_df.corr()"
   ]
  },
  {
   "cell_type": "code",
   "execution_count": null,
   "metadata": {
    "colab": {
     "base_uri": "https://localhost:8080/",
     "height": 1000
    },
    "id": "zBy4m89a08Sj",
    "outputId": "a42677b0-08e3-4cd4-bd56-b543ee6bb45e"
   },
   "outputs": [],
   "source": [
    "f, ax = plt.subplots(figsize = (20,20))\n",
    "sns.heatmap(correlations, annot = True)\n",
    "# 'PURCHASES' tienen una alta correlación con one-off purchases, 'installment purchases, purchase transactions, credit limit y payments. \n",
    "# Correlación positiva muy elevada entre 'PURCHASES_FREQUENCY' y 'PURCHASES_INSTALLMENT_FREQUENCY'\n"
   ]
  },
  {
   "cell_type": "markdown",
   "metadata": {
    "id": "QRSLmofOqJ2X"
   },
   "source": [
    "# TAREA #4: ENTENDER LA TEORÍA DETRÁS DE K-MEANS"
   ]
  },
  {
   "cell_type": "markdown",
   "metadata": {
    "id": "Snz86eQfl4Ma"
   },
   "source": [
    "![alt text](https://drive.google.com/uc?id=1T2vAOTCInx9l2S9b9H5xm-__h-RLRY5s)"
   ]
  },
  {
   "cell_type": "markdown",
   "metadata": {
    "id": "DwExHI2Ml9Cu"
   },
   "source": [
    "![alt text](https://drive.google.com/uc?id=1eXSerp2FQpxhAa355hKeVT0-tY94ixsw)"
   ]
  },
  {
   "cell_type": "markdown",
   "metadata": {
    "id": "0QemFDm2mEZT"
   },
   "source": [
    "![alt text](https://drive.google.com/uc?id=1D12cmll79HCx_Xbt3PSq51PnytJ7DhSr)"
   ]
  },
  {
   "cell_type": "markdown",
   "metadata": {
    "id": "oXKwrdX6mK2b"
   },
   "source": [
    "![alt text](https://drive.google.com/uc?id=1Syuco6pZ410oP6KbfgCH18s09eB4Hd2H)"
   ]
  },
  {
   "cell_type": "markdown",
   "metadata": {
    "id": "BT4AbAyumQYZ"
   },
   "source": [
    "![alt text](https://drive.google.com/uc?id=1DQ4KUV66YG-xnZ4xorQFgtkx5EbE2GLI)"
   ]
  },
  {
   "cell_type": "markdown",
   "metadata": {
    "id": "ZDFDdbvSmZf3"
   },
   "source": [
    "![alt text](https://drive.google.com/uc?id=1LzWnRt2w1bLUBGJ7tRK-b4Xudbx54H3D)"
   ]
  },
  {
   "cell_type": "markdown",
   "metadata": {
    "id": "fB7IVr8rmdG0"
   },
   "source": [
    "![alt text](https://drive.google.com/uc?id=1orzdGxbZPiWlLZcI7EKHAmhnz7T41cV_)"
   ]
  },
  {
   "cell_type": "markdown",
   "metadata": {
    "id": "mUfUdppimibu"
   },
   "source": [
    "![alt text](https://drive.google.com/uc?id=1ITLmp2XTCUFIM-BPpDWOYmfjxENxywer)"
   ]
  },
  {
   "cell_type": "markdown",
   "metadata": {
    "id": "Y0GmpAjG3GiH"
   },
   "source": [
    "# TAREA #5: ENCONTRAR EL NÚMERO ÓPTIMO DE CLISTERS UTILIZANDO EL MÉTODO DEL CODO"
   ]
  },
  {
   "cell_type": "markdown",
   "metadata": {
    "id": "3adNuk5n90eZ"
   },
   "source": [
    "- El método del codo es un método heurístico de interpretación y validación de la coherencia dentro del análisis de clustering diseñado para ayudar a encontrar el número apropiado de clusters en un conjunto de datos.\n",
    "- Si el gráfico de líneas se parece a un brazo, entonces el \"codo\" en el brazo es el valor de k que es el mejor.\n",
    "- Source: \n",
    "  - https://en.wikipedia.org/wiki/Elbow_method_(clustering)\n",
    "  - https://www.geeksforgeeks.org/elbow-method-for-optimal-value-of-k-in-kmeans/"
   ]
  },
  {
   "cell_type": "code",
   "execution_count": null,
   "metadata": {
    "id": "axr926Btjyux"
   },
   "outputs": [],
   "source": [
    "# Empecemos por escalar primero el dataset\n",
    "scaler = StandardScaler()\n",
    "creditcard_df_scaled = scaler.fit_transform(creditcard_df)"
   ]
  },
  {
   "cell_type": "code",
   "execution_count": null,
   "metadata": {
    "colab": {
     "base_uri": "https://localhost:8080/",
     "height": 35
    },
    "id": "9CJeasg4kHyP",
    "outputId": "7a7ff4b7-e59e-4ebb-b2dd-d3ae634f360e"
   },
   "outputs": [],
   "source": [
    "creditcard_df_scaled.shape"
   ]
  },
  {
   "cell_type": "code",
   "execution_count": null,
   "metadata": {
    "colab": {
     "base_uri": "https://localhost:8080/",
     "height": 243
    },
    "id": "FK5ggiVPsJE9",
    "outputId": "1d06feb4-776e-4635-daa8-06fb4497288d"
   },
   "outputs": [],
   "source": [
    "creditcard_df_scaled"
   ]
  },
  {
   "cell_type": "code",
   "execution_count": null,
   "metadata": {
    "colab": {
     "base_uri": "https://localhost:8080/",
     "height": 295
    },
    "id": "1_nb-D8H3cK-",
    "outputId": "59d45fcc-7b65-4005-8d7f-dc8a280245e0"
   },
   "outputs": [],
   "source": [
    "scores_1 = []\n",
    "\n",
    "range_values = range(1, 20)\n",
    "\n",
    "for i in range_values:\n",
    "    kmeans = KMeans(n_clusters = i)\n",
    "    kmeans.fit(creditcard_df_scaled)\n",
    "    scores_1.append(kmeans.inertia_) #WCSS\n",
    "\n",
    "\n",
    "plt.plot(range_values, scores_1, 'bx-')\n",
    "plt.title(\"Encontrar el número óptimo de Clusters\")\n",
    "plt.xlabel(\"Clusters\")\n",
    "plt.ylabel(\"WCSS(k)\")\n",
    "plt.show()\n",
    "\n",
    "\n",
    "\n",
    "# Con el gráfico podemos ver que en 4 clusters es donde se forma el codo de la curva.\n",
    "# Sin embargo, los valores no se reducen a una forma lineal hasta el 8º cluster. \n",
    "# Elijamos pues un número de clusters igual a 8."
   ]
  },
  {
   "cell_type": "markdown",
   "metadata": {
    "id": "m_jo7mJ4C8R9"
   },
   "source": [
    "# TAREA #6: APLICAR EL MÉTODO DE K-MEANS"
   ]
  },
  {
   "cell_type": "code",
   "execution_count": null,
   "metadata": {
    "id": "qwzY8rj0uV-a"
   },
   "outputs": [],
   "source": [
    "kmeans = KMeans(8)\n",
    "kmeans.fit(creditcard_df_scaled)\n",
    "labels = kmeans.labels_"
   ]
  },
  {
   "cell_type": "code",
   "execution_count": null,
   "metadata": {
    "colab": {
     "base_uri": "https://localhost:8080/",
     "height": 35
    },
    "id": "dShNNvg09zH3",
    "outputId": "f2da822d-4885-4480-8499-e6fc1e0a436a"
   },
   "outputs": [],
   "source": [
    "kmeans.cluster_centers_.shape"
   ]
  },
  {
   "cell_type": "code",
   "execution_count": null,
   "metadata": {
    "colab": {
     "base_uri": "https://localhost:8080/",
     "height": 314
    },
    "id": "VEiPOUJv9iFK",
    "outputId": "01d4a070-1bd7-4324-f77b-005042148788"
   },
   "outputs": [],
   "source": [
    "cluster_centers = pd.DataFrame(data = kmeans.cluster_centers_, columns=[creditcard_df.columns])\n",
    "cluster_centers"
   ]
  },
  {
   "cell_type": "code",
   "execution_count": null,
   "metadata": {
    "colab": {
     "base_uri": "https://localhost:8080/",
     "height": 314
    },
    "id": "9ogiZbsGBBl8",
    "outputId": "d10cb16c-fdbd-42cf-dfc3-d54b0b56bdbe"
   },
   "outputs": [],
   "source": [
    "# Para entender mejor estos valores, vamos a aplicar la transformación inversa.\n",
    "cluster_centers = scaler.inverse_transform(cluster_centers)\n",
    "cluster_centers = pd.DataFrame(data = cluster_centers, columns=[creditcard_df.columns])\n",
    "cluster_centers\n",
    "\n",
    "# Primer Cluster de Clientes (Transactors): Esos son los clientes que pagan la menor cantidad de cargos por intereses y tienen cuidado con su dinero, Clúster con el saldo más bajo ($ 104) y anticipo en efectivo ($ 303), Porcentaje de pago completo = 23%\n",
    "# Segundo Cluster de Clientes (Revolvers) que usan tarjeta de crédito como préstamo (sector más lucrativo): saldo más alto ($ 5000) y anticipo en efectivo (~ $ 5000), baja frecuencia de compra, alta frecuencia de anticipo en efectivo (0.5), transacciones de anticipo en efectivo alto (16) y bajo porcentaje de pago (3%)\n",
    "# Tercer Cluster de Clientes (VIP/Prime): límite de crédito alto $ 16K y porcentaje más alto de pago completo, objetivo para aumentar el límite de crédito y aumentar los hábitos de gasto\n",
    "# Cuarto Cluster de Clientes (low tenure): estos son clientes con baja antigüedad (7 años), saldo bajo\n"
   ]
  },
  {
   "cell_type": "code",
   "execution_count": null,
   "metadata": {
    "colab": {
     "base_uri": "https://localhost:8080/",
     "height": 35
    },
    "id": "kCuHRqBIusm7",
    "outputId": "152d3c4a-5a2d-4164-a27b-2d079b6d6bb6"
   },
   "outputs": [],
   "source": [
    "labels.shape"
   ]
  },
  {
   "cell_type": "code",
   "execution_count": null,
   "metadata": {
    "colab": {
     "base_uri": "https://localhost:8080/",
     "height": 35
    },
    "id": "Ywcls4cvu2lh",
    "outputId": "187a1fc3-3009-44ca-834a-c713a77a5b47"
   },
   "outputs": [],
   "source": [
    "labels.min()"
   ]
  },
  {
   "cell_type": "code",
   "execution_count": null,
   "metadata": {
    "colab": {
     "base_uri": "https://localhost:8080/",
     "height": 35
    },
    "id": "NPQIMB7Fu9f3",
    "outputId": "d6bab0f4-7e64-4d71-d689-7f9f758dea9a"
   },
   "outputs": [],
   "source": [
    "labels.max()"
   ]
  },
  {
   "cell_type": "code",
   "execution_count": null,
   "metadata": {
    "colab": {
     "base_uri": "https://localhost:8080/",
     "height": 35
    },
    "id": "kgLSvv-6vHSs",
    "outputId": "5144ee75-f551-4942-95ef-4f4c46422fb6"
   },
   "outputs": [],
   "source": [
    "y_kmeans = kmeans.fit_predict(creditcard_df_scaled)\n",
    "y_kmeans"
   ]
  },
  {
   "cell_type": "code",
   "execution_count": null,
   "metadata": {
    "colab": {
     "base_uri": "https://localhost:8080/",
     "height": 222
    },
    "id": "OfMaZqUOqdJB",
    "outputId": "ddb50c99-a0d5-45e1-c3ab-90cb656f1fd6"
   },
   "outputs": [],
   "source": [
    "# Concatenamos las etiquetas de los clusters con el dataset riginal \n",
    "creditcard_df_cluster = pd.concat([creditcard_df, pd.DataFrame({'cluster': labels})], axis = 1)\n",
    "creditcard_df_cluster.head()\n"
   ]
  },
  {
   "cell_type": "code",
   "execution_count": null,
   "metadata": {
    "colab": {
     "base_uri": "https://localhost:8080/",
     "height": 1000
    },
    "id": "TYEhR6rvqwda",
    "outputId": "cbf23981-5fc7-4996-dbab-e675d90a06ab"
   },
   "outputs": [],
   "source": [
    "# Visualizamos histogramas para cada cluster \n",
    "for i in creditcard_df.columns:\n",
    "    plt.figure(figsize=(35, 5))\n",
    "    for j in range(8):\n",
    "        plt.subplot(1, 8, j+1)\n",
    "        cluster = creditcard_df_cluster[creditcard_df_cluster['cluster'] == j]\n",
    "        cluster[i].hist(bins = 20)\n",
    "        plt.title('{}    \\nCluster {}'.format(i, j))\n",
    "    plt.show()\n"
   ]
  },
  {
   "cell_type": "markdown",
   "metadata": {
    "id": "UVTd7FYLNCAE"
   },
   "source": [
    "# TAREA 7: APLICAR ANÁLISIS DE LAS COMPONENTES PRINCIPALES Y VISUALIZAR LOS RESULTADOS "
   ]
  },
  {
   "cell_type": "markdown",
   "metadata": {
    "id": "FXUfg8Camz1s"
   },
   "source": [
    "![alt text](https://drive.google.com/uc?id=17b_4GsvzJmWt9cnPOcgSGmEelagGSbtL)"
   ]
  },
  {
   "cell_type": "code",
   "execution_count": null,
   "metadata": {
    "colab": {
     "base_uri": "https://localhost:8080/",
     "height": 139
    },
    "id": "RgFq3h993cIz",
    "outputId": "881aca0f-18d4-4bee-9b4d-b48577c65fa1"
   },
   "outputs": [],
   "source": [
    "# Obtenemos las componentes principales\n",
    "pca = PCA(n_components = 2)\n",
    "principal_comp = pca.fit_transform(creditcard_df_scaled)\n",
    "principal_comp\n"
   ]
  },
  {
   "cell_type": "code",
   "execution_count": null,
   "metadata": {
    "colab": {
     "base_uri": "https://localhost:8080/",
     "height": 202
    },
    "id": "ad3UQtPU0eHK",
    "outputId": "2949bef0-3ca8-4b05-9a11-bfb0d932b02a"
   },
   "outputs": [],
   "source": [
    "# Creamos un dataframe con las dos componentes \n",
    "pca_df = pd.DataFrame(data = principal_comp, columns=[\"pca1\", \"pca2\"])\n",
    "pca_df.head()\n",
    "\n"
   ]
  },
  {
   "cell_type": "code",
   "execution_count": null,
   "metadata": {
    "colab": {
     "base_uri": "https://localhost:8080/",
     "height": 202
    },
    "id": "q7gsGkEZvkYd",
    "outputId": "ca6a987c-3b7e-4770-d6e7-4ae8382a1ecc"
   },
   "outputs": [],
   "source": [
    "# Concatenamos las etiquetas de los clusters con el dataframe de las componentes principales\n",
    "\n",
    "pca_df = pd.concat([pca_df, pd.DataFrame({'cluster':labels})], axis = 1)\n",
    "\n",
    "pca_df.head()\n"
   ]
  },
  {
   "cell_type": "code",
   "execution_count": null,
   "metadata": {
    "colab": {
     "base_uri": "https://localhost:8080/",
     "height": 606
    },
    "id": "4KYt5SUrvneq",
    "outputId": "4dc1c981-1461-48ea-ae05-a1d8e7327b5d"
   },
   "outputs": [],
   "source": [
    "plt.figure(figsize=(10,10))\n",
    "ax = sns.scatterplot(x = \"pca1\", y = \"pca2\", hue = \"cluster\", data = pca_df,\n",
    "                     palette = [\"red\", \"green\", \"blue\", \"pink\", \"yellow\", \"gray\", \"purple\", \"black\"])\n",
    "plt.show()\n",
    "\n",
    "\n",
    "\n",
    "\n",
    "\n"
   ]
  },
  {
   "cell_type": "markdown",
   "metadata": {
    "id": "7ZSYI8qmCplx"
   },
   "source": [
    "# TAREA #8: ENTENDER LA TEORÍA Y LA INTUICIÓN DETRÁS DE LOS AUTOENCODERS"
   ]
  },
  {
   "cell_type": "markdown",
   "metadata": {
    "id": "HtQekkAFm8-d"
   },
   "source": [
    "![alt text](https://drive.google.com/uc?id=1kY4Ol3OvDd4IaFdrGXB8s-vAa1bhsT6V)"
   ]
  },
  {
   "cell_type": "markdown",
   "metadata": {
    "id": "oABWvrTRm9Ey"
   },
   "source": [
    "![alt text](https://drive.google.com/uc?id=1qtSiLgN_ZYWV_SPD79xpiapkbHxNmqvb)"
   ]
  },
  {
   "cell_type": "markdown",
   "metadata": {
    "id": "VXQ_Rqdzm9S5"
   },
   "source": [
    "![alt text](https://drive.google.com/uc?id=13sf_hXzpb2_bctB5EF7w-pXDV_72J95_)"
   ]
  },
  {
   "cell_type": "markdown",
   "metadata": {
    "id": "-wRQqOeB5Zh5"
   },
   "source": [
    "# TAREA #9: APLICAR LOS AUTOENCODERS (REDUCIR LA DIMENSIÓN DE LOS DATOS CON LOS AUTOENCODERS)"
   ]
  },
  {
   "cell_type": "code",
   "execution_count": null,
   "metadata": {
    "id": "LfGAnIVUv44L"
   },
   "outputs": [],
   "source": [
    "from tensorflow.keras.layers import Input, Add, Dense, Activation, ZeroPadding2D, BatchNormalization, Flatten, Conv2D, AveragePooling2D, MaxPooling2D, Dropout\n",
    "from tensorflow.keras.models import Model, load_model\n",
    "from tensorflow.keras.initializers import glorot_uniform\n",
    "from keras.optimizers import SGD\n",
    "\n",
    "encoding_dim = 7\n",
    "\n",
    "input_df = Input(shape = (17, ))\n",
    "\n",
    "# Glorot normal inicializador (Xavier normal initializer) tomar muestras aleatorias de una distribución normal truncada\n",
    "\n",
    "x = Dense(encoding_dim, activation = 'relu')(input_df)\n",
    "x = Dense(500, activation = 'relu', kernel_initializer = 'glorot_uniform')(x) \n",
    "x = Dense(500, activation = 'relu', kernel_initializer = 'glorot_uniform')(x) \n",
    "x = Dense(2000, activation = 'relu', kernel_initializer = 'glorot_uniform')(x) \n",
    "\n",
    "encoded = Dense(10, activation = 'relu', kernel_initializer = 'glorot_uniform')(x) \n",
    "\n",
    "x = Dense(2000, activation = 'relu', kernel_initializer = 'glorot_uniform')(encoded) \n",
    "x = Dense(500, activation = 'relu', kernel_initializer = 'glorot_uniform')(x) \n",
    "\n",
    "decoded = Dense(17, kernel_initializer = 'glorot_uniform')(x)\n",
    "\n",
    "\n",
    "autoencoder = Model(input_df, decoded)\n",
    "\n",
    "encoder = Model(input_df, encoded)\n",
    "\n",
    "autoencoder.compile(optimizer = 'adam', loss = 'mean_squared_error')\n"
   ]
  },
  {
   "cell_type": "code",
   "execution_count": null,
   "metadata": {
    "colab": {
     "base_uri": "https://localhost:8080/",
     "height": 35
    },
    "id": "L7IYeT6Q05-Q",
    "outputId": "f937252a-6bf2-4f32-9911-d5e06ce5c57c"
   },
   "outputs": [],
   "source": [
    "creditcard_df_scaled.shape"
   ]
  },
  {
   "cell_type": "code",
   "execution_count": null,
   "metadata": {
    "colab": {
     "base_uri": "https://localhost:8080/",
     "height": 468
    },
    "id": "Pd9qA2Chweye",
    "outputId": "948799dd-45cf-4e93-cc4f-9ce67382eb88"
   },
   "outputs": [],
   "source": [
    "autoencoder.summary()"
   ]
  },
  {
   "cell_type": "code",
   "execution_count": null,
   "metadata": {
    "colab": {
     "base_uri": "https://localhost:8080/",
     "height": 901
    },
    "id": "zZ86PPLm1sTn",
    "outputId": "3b5ae88c-494c-43d0-8c2c-48fe6868c044"
   },
   "outputs": [],
   "source": [
    "autoencoder.fit(creditcard_df_scaled, creditcard_df_scaled, batch_size=128, epochs = 25, verbose = 1)"
   ]
  },
  {
   "cell_type": "code",
   "execution_count": null,
   "metadata": {
    "id": "0lL6Wv0e1scz"
   },
   "outputs": [],
   "source": [
    "autoencoder.save_weights('autoencoder.h5')"
   ]
  },
  {
   "cell_type": "code",
   "execution_count": null,
   "metadata": {
    "id": "jnHIsvgn2Omk"
   },
   "outputs": [],
   "source": [
    "pred = encoder.predict(creditcard_df_scaled)"
   ]
  },
  {
   "cell_type": "code",
   "execution_count": null,
   "metadata": {
    "colab": {
     "base_uri": "https://localhost:8080/",
     "height": 35
    },
    "id": "65yCY1jhBh1t",
    "outputId": "07121bbd-f7b9-4b65-f5f9-45617d5ba4a4"
   },
   "outputs": [],
   "source": [
    "pred.shape"
   ]
  },
  {
   "cell_type": "code",
   "execution_count": null,
   "metadata": {
    "colab": {
     "base_uri": "https://localhost:8080/",
     "height": 295
    },
    "id": "f-Yl1za9BhsA",
    "outputId": "1b90a168-479e-453f-970e-d7c8340d8a10"
   },
   "outputs": [],
   "source": [
    "scores_2 = []\n",
    "\n",
    "range_values = range(1,20)\n",
    "\n",
    "for i in range_values:\n",
    "    kmeans = KMeans(n_clusters = i)\n",
    "    kmeans.fit(pred)\n",
    "    scores_2.append(kmeans.inertia_)\n",
    "\n",
    "\n",
    "plt.plot(range_values, scores_2, 'bx-')\n",
    "plt.title(\"Encontrar el número óptimo de clusters\")\n",
    "plt.xlabel(\"Número de Clusters\")\n",
    "plt.ylabel(\"WCSS(k)\")\n",
    "plt.show()"
   ]
  },
  {
   "cell_type": "code",
   "execution_count": null,
   "metadata": {
    "colab": {
     "base_uri": "https://localhost:8080/",
     "height": 283
    },
    "id": "7JhXSa-j32rj",
    "outputId": "82932404-9203-4a21-c3f9-eeb4c13fd1c3"
   },
   "outputs": [],
   "source": [
    "plt.plot(range_values, scores_1, 'bx-', color = \"r\")\n",
    "plt.plot(range_values, scores_2, 'bx-', color = \"g\")\n"
   ]
  },
  {
   "cell_type": "code",
   "execution_count": null,
   "metadata": {
    "id": "utaeIFtD38X-"
   },
   "outputs": [],
   "source": [
    "kmeans = KMeans(4)\n",
    "kmeans.fit(pred)\n",
    "labels = kmeans.labels_\n",
    "y_kmeans = kmeans.fit_predict(pred)"
   ]
  },
  {
   "cell_type": "code",
   "execution_count": null,
   "metadata": {
    "colab": {
     "base_uri": "https://localhost:8080/",
     "height": 222
    },
    "id": "fhU84OJx4jFb",
    "outputId": "1279c212-a2d5-46f0-b54b-3d4ce99119c1"
   },
   "outputs": [],
   "source": [
    "df_cluster_dr = pd.concat([creditcard_df, pd.DataFrame({'cluster': labels})], axis = 1)\n",
    "df_cluster_dr.head()"
   ]
  },
  {
   "cell_type": "code",
   "execution_count": null,
   "metadata": {
    "colab": {
     "base_uri": "https://localhost:8080/",
     "height": 202
    },
    "id": "RlSSorv65kao",
    "outputId": "6a0639c2-916a-4284-95e1-048197784098"
   },
   "outputs": [],
   "source": [
    "pca = PCA(n_components=2)\n",
    "princ_comp = pca.fit_transform(pred)\n",
    "pca_df = pd.DataFrame(data = princ_comp, columns=[\"pca1\", \"pca2\"])\n",
    "pca_df.head()"
   ]
  },
  {
   "cell_type": "code",
   "execution_count": null,
   "metadata": {
    "colab": {
     "base_uri": "https://localhost:8080/",
     "height": 415
    },
    "id": "G3aPOnO65ot-",
    "outputId": "5e8abc83-9e58-4c5c-8902-3f640babc3df"
   },
   "outputs": [],
   "source": [
    "pca_df = pd.concat([pca_df, pd.DataFrame({\"cluster\":labels})], axis = 1)\n",
    "pca_df"
   ]
  },
  {
   "cell_type": "code",
   "execution_count": null,
   "metadata": {
    "colab": {
     "base_uri": "https://localhost:8080/",
     "height": 606
    },
    "id": "YBdNF4KeXsI8",
    "outputId": "13dda661-653e-4ea2-bd86-431da3d21a36"
   },
   "outputs": [],
   "source": [
    "plt.figure(figsize=(10,10))\n",
    "ax = sns.scatterplot(x=\"pca1\", y = \"pca2\", hue=\"cluster\", data = pca_df, palette=[\"red\", \"green\", \"blue\", \"yellow\"])\n",
    "plt.show()"
   ]
  },
  {
   "cell_type": "markdown",
   "metadata": {
    "id": "27OgYEJu9EFV"
   },
   "source": [
    "# ¡EXCELENTE TRABAJO! PUEDES ESTAR ORGULLOSO DE TUS HABILIDADES RECIEN ADQUIRIDAS"
   ]
  }
 ],
 "metadata": {
  "colab": {
   "collapsed_sections": [],
   "name": "Solución Departamento de Marketing",
   "provenance": []
  },
  "kernelspec": {
   "display_name": "Python 3",
   "language": "python",
   "name": "python3"
  },
  "language_info": {
   "codemirror_mode": {
    "name": "ipython",
    "version": 3
   },
   "file_extension": ".py",
   "mimetype": "text/x-python",
   "name": "python",
   "nbconvert_exporter": "python",
   "pygments_lexer": "ipython3",
   "version": "3.7.6"
  }
 },
 "nbformat": 4,
 "nbformat_minor": 1
}
