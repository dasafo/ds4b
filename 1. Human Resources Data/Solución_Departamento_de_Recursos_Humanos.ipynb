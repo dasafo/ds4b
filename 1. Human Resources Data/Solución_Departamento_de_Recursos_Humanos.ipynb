{
 "cells": [
  {
   "cell_type": "markdown",
   "metadata": {
    "id": "M27qF7CTrBqc"
   },
   "source": [
    "# TAREA #1: ENTENDER EL ENUNCIADO DEL PROBLEMA Y EL CASO PRÁCTICO"
   ]
  },
  {
   "cell_type": "markdown",
   "metadata": {
    "id": "Z2ZMlH-gtOxf"
   },
   "source": [
    "\n",
    "<table>\n",
    "  <tr><td>\n",
    "    <img src=\"https://drive.google.com/uc?id=1yJKgmHrRFnBk987HJfeDrMcTEXtk0z7W\"\n",
    "         alt=\"Fashion MNIST sprite\"  width=\"1000\">\n",
    "  </td></tr>\n",
    "  <tr><td align=\"center\">\n",
    "    <b>Figura 1. Predicción de la Retención de Empleados\n",
    "  </td></tr>\n",
    "</table>\n"
   ]
  },
  {
   "cell_type": "markdown",
   "metadata": {
    "id": "xNl52nl3qiyL"
   },
   "source": [
    "![alt text](https://drive.google.com/uc?id=1u38Inu9eSZM02MlhLIzxY7aguGnzh17v)"
   ]
  },
  {
   "cell_type": "markdown",
   "metadata": {
    "id": "qANsbnOpp6Ft"
   },
   "source": [
    "![alt text](https://drive.google.com/uc?id=1UrsB2DV303p3F5-P96jZLKF_ZtLPIHg4)"
   ]
  },
  {
   "cell_type": "markdown",
   "metadata": {
    "id": "ladNLq1WqDY6"
   },
   "source": [
    "![alt text](https://drive.google.com/uc?id=1DooMDDmd0ilm18AKFPfHar3SU0onyWwe)"
   ]
  },
  {
   "cell_type": "markdown",
   "metadata": {
    "id": "uAE6Icc0uylP"
   },
   "source": [
    "# TAREA #2: IMPORTAR LAS LIBRERÍAS Y LOS DATASETS LIBRARIES AND DATASETS"
   ]
  },
  {
   "cell_type": "code",
   "execution_count": 1,
   "metadata": {
    "colab": {
     "base_uri": "https://localhost:8080/",
     "height": 70
    },
    "id": "YBp2qDPb8pDo",
    "outputId": "fb64d58d-1f0f-4f45-a347-7aeb4dec0825"
   },
   "outputs": [],
   "source": [
    "import pandas as pd\n",
    "import numpy as np\n",
    "import seaborn as sns\n",
    "import matplotlib.pyplot as plt"
   ]
  },
  {
   "cell_type": "code",
   "execution_count": 2,
   "metadata": {
    "colab": {
     "base_uri": "https://localhost:8080/",
     "height": 34
    },
    "id": "5P_ciLXawMZg",
    "outputId": "81a1f037-a417-42af-c01d-cd99a7e6d248"
   },
   "outputs": [
    {
     "ename": "ModuleNotFoundError",
     "evalue": "No module named 'google'",
     "output_type": "error",
     "traceback": [
      "\u001b[0;31m---------------------------------------------------------------------------\u001b[0m",
      "\u001b[0;31mModuleNotFoundError\u001b[0m                       Traceback (most recent call last)",
      "\u001b[0;32m<ipython-input-2-9d24af3e3482>\u001b[0m in \u001b[0;36m<module>\u001b[0;34m\u001b[0m\n\u001b[1;32m      2\u001b[0m \u001b[0;31m# Para obtener más información sobre el montaje, consulta esto: https://stackoverflow.com/questions/46986398/import-data-into-google-colaboratory\u001b[0m\u001b[0;34m\u001b[0m\u001b[0;34m\u001b[0m\u001b[0;34m\u001b[0m\u001b[0m\n\u001b[1;32m      3\u001b[0m \u001b[0;34m\u001b[0m\u001b[0m\n\u001b[0;32m----> 4\u001b[0;31m \u001b[0;32mfrom\u001b[0m \u001b[0mgoogle\u001b[0m\u001b[0;34m.\u001b[0m\u001b[0mcolab\u001b[0m \u001b[0;32mimport\u001b[0m \u001b[0mdrive\u001b[0m\u001b[0;34m\u001b[0m\u001b[0;34m\u001b[0m\u001b[0m\n\u001b[0m\u001b[1;32m      5\u001b[0m \u001b[0mdrive\u001b[0m\u001b[0;34m.\u001b[0m\u001b[0mmount\u001b[0m\u001b[0;34m(\u001b[0m\u001b[0;34m'/content/drive'\u001b[0m\u001b[0;34m)\u001b[0m\u001b[0;34m\u001b[0m\u001b[0;34m\u001b[0m\u001b[0m\n",
      "\u001b[0;31mModuleNotFoundError\u001b[0m: No module named 'google'"
     ]
    }
   ],
   "source": [
    "# Necesitarás montar tu disco usando los siguientes comandos:\n",
    "# Para obtener más información sobre el montaje, consulta esto: https://stackoverflow.com/questions/46986398/import-data-into-google-colaboratory\n",
    "\n",
    "from google.colab import drive\n",
    "drive.mount('/content/drive')"
   ]
  },
  {
   "cell_type": "code",
   "execution_count": null,
   "metadata": {
    "id": "tjIiJdM4u1IE"
   },
   "outputs": [],
   "source": [
    "# Debes incluir el enlace completo al archivo csv que contiene tu conjunto de datos\n",
    "employee_df = pd.read_csv('/content/drive/My Drive/Curso de Data Science para Empresas/1. Human Resources Data/Human_Resources.csv')\n"
   ]
  },
  {
   "cell_type": "code",
   "execution_count": null,
   "metadata": {
    "colab": {
     "base_uri": "https://localhost:8080/",
     "height": 590
    },
    "id": "q4_wPDKCu5Uc",
    "outputId": "6546c2c0-0000-43e1-d088-b24c75bf9e11"
   },
   "outputs": [],
   "source": [
    "employee_df"
   ]
  },
  {
   "cell_type": "code",
   "execution_count": null,
   "metadata": {
    "colab": {
     "base_uri": "https://localhost:8080/",
     "height": 299
    },
    "id": "E7puy9-xxS4A",
    "outputId": "9fbe4cc9-ee8a-4edc-a5cb-ff4649b2bd17"
   },
   "outputs": [],
   "source": [
    "employee_df.head(5)"
   ]
  },
  {
   "cell_type": "code",
   "execution_count": null,
   "metadata": {
    "colab": {
     "base_uri": "https://localhost:8080/",
     "height": 531
    },
    "id": "RUt2ON_UxyYk",
    "outputId": "f475becc-45be-4fcf-d424-13a3e763b60d"
   },
   "outputs": [],
   "source": [
    "employee_df.tail(10)"
   ]
  },
  {
   "cell_type": "code",
   "execution_count": null,
   "metadata": {
    "colab": {
     "base_uri": "https://localhost:8080/",
     "height": 722
    },
    "id": "hMq3-KWOx0e1",
    "outputId": "b7553d93-9b06-472e-92d9-541af689a53f"
   },
   "outputs": [],
   "source": [
    "employee_df.info()\n",
    "# 35 características en total, cada una con 1470 puntos de datos"
   ]
  },
  {
   "cell_type": "code",
   "execution_count": null,
   "metadata": {
    "colab": {
     "base_uri": "https://localhost:8080/",
     "height": 304
    },
    "id": "s0E9xPLdx2Ok",
    "outputId": "efe661d4-b681-4806-be9d-22c107120718"
   },
   "outputs": [],
   "source": [
    "employee_df.describe()"
   ]
  },
  {
   "cell_type": "code",
   "execution_count": null,
   "metadata": {},
   "outputs": [],
   "source": [
    "#observamos que valores tienen los features (menos Date y Time que ya nos lo imaginamos)\n"
   ]
  },
  {
   "cell_type": "markdown",
   "metadata": {
    "id": "LlszUhNNyrl_"
   },
   "source": [
    "# TAREA #3: VISUALIZACIÓN DEL DATASET"
   ]
  },
  {
   "cell_type": "code",
   "execution_count": null,
   "metadata": {
    "id": "ZiVkQqEPMDDD"
   },
   "outputs": [],
   "source": [
    "# Reemplazamos las columnas 'Attritition', 'Over18  y 'overtime' por enteros antes de poder llevar a cabo cualquier visualización\n",
    "employee_df['Attrition'] = employee_df['Attrition'].apply(lambda x: 1 if x == 'Yes' else 0)\n",
    "employee_df['OverTime'] = employee_df['OverTime'].apply(lambda x: 1 if x == 'Yes' else 0)\n",
    "employee_df['Over18'] = employee_df['Over18'].apply(lambda x: 1 if x == 'Y' else 0)\n"
   ]
  },
  {
   "cell_type": "code",
   "execution_count": null,
   "metadata": {
    "colab": {
     "base_uri": "https://localhost:8080/",
     "height": 253
    },
    "id": "RYLqq7WetK79",
    "outputId": "9adb275e-0dcd-4e89-ae91-8f5848fc38f9"
   },
   "outputs": [],
   "source": [
    "employee_df.head(4)"
   ]
  },
  {
   "cell_type": "code",
   "execution_count": null,
   "metadata": {
    "colab": {
     "base_uri": "https://localhost:8080/",
     "height": 395
    },
    "id": "ICj3NLbqqmve",
    "outputId": "f7ca5fab-09a9-4156-caba-e5420567f2a8"
   },
   "outputs": [],
   "source": [
    "# Veamos si nos faltan datos, ¡afortunadamente no es así!\n",
    " sns.heatmap(employee_df.isnull(), yticklabels = False, cbar = False, cmap=\"Blues\")\n"
   ]
  },
  {
   "cell_type": "code",
   "execution_count": null,
   "metadata": {
    "colab": {
     "base_uri": "https://localhost:8080/",
     "height": 1000
    },
    "id": "V3BgiFBrv2NK",
    "outputId": "196787f4-e5e5-41b0-ed3f-a7b3c19dae4c"
   },
   "outputs": [],
   "source": [
    "employee_df.hist(bins = 30, figsize = (20,20), color = 'r')\n",
    "# Algunas características como 'MonthlyIncome' y 'TotalWorkingYears' tienen una distribución con una cola muy larga (long tail distribution)\n",
    "# Tiene sentido que nos desagamos de 'EmployeeCount' y 'Standardhours' ya que estos campos no cambian de un empleado a otro"
   ]
  },
  {
   "cell_type": "code",
   "execution_count": null,
   "metadata": {
    "id": "BfDQRuNj4_b8"
   },
   "outputs": [],
   "source": [
    "# Tiene sentido deshacerse de 'EmployeeCount' , 'Standardhours' y 'Over18' ya que son campos que no cambian de un empleado a otro\n",
    "# Eliminemos 'EmployeeNumber' también\n",
    "employee_df.drop(['EmployeeCount', 'StandardHours', 'Over18', 'EmployeeNumber'], axis=1, inplace=True)"
   ]
  },
  {
   "cell_type": "code",
   "execution_count": null,
   "metadata": {
    "id": "-5qvu70o5oAI"
   },
   "outputs": [],
   "source": [
    "# Veamos cuantos empleados dejan la empresa!\n",
    "left_df        = employee_df[employee_df['Attrition'] == 1]\n",
    "stayed_df      = employee_df[employee_df['Attrition'] == 0]\n"
   ]
  },
  {
   "cell_type": "code",
   "execution_count": null,
   "metadata": {
    "colab": {
     "base_uri": "https://localhost:8080/",
     "height": 101
    },
    "id": "uBDltyUy5o1L",
    "outputId": "4755db94-5145-429f-82b4-d5741331d502"
   },
   "outputs": [],
   "source": [
    "# Contamos el número de empleados que se quedaron y que se fueron\n",
    "# Parece que estamos ante un conjunto de datos desequilibrado\n",
    "\n",
    "print(\"Total =\", len(employee_df))\n",
    "\n",
    "print(\"Number of employees who left the company =\", len(left_df))\n",
    "print(\"Percentage of employees who left the company =\", 1.*len(left_df)/len(employee_df)*100.0, \"%\")\n",
    " \n",
    "print(\"Number of employees who did not leave the company (stayed) =\", len(stayed_df))\n",
    "print(\"Percentage of employees who did not leave the company (stayed) =\", 1.*len(stayed_df)/len(employee_df)*100.0, \"%\")"
   ]
  },
  {
   "cell_type": "code",
   "execution_count": null,
   "metadata": {
    "colab": {
     "base_uri": "https://localhost:8080/",
     "height": 304
    },
    "id": "B5SXd3txxv7V",
    "outputId": "7f5c3c49-0145-4d7a-98c1-66f209bd6a63"
   },
   "outputs": [],
   "source": [
    "left_df.describe()\n",
    "\n",
    "# Comparemos la media y el error estándar de los empleados que se quedaron y se fueron\n",
    "# 'age': la edad media de los empleados que se quedaron es mayor en comparación con los que se fueron\n",
    "# 'DailyRate': El rate diario de los empleados que se quedaron es mayor\n",
    "# 'DistanceFromHome': Los empleados que se quedan viven más cerca del trabajo\n",
    "# 'EnvironmentSatisfaction' & 'JobSatisfaction': Los empleados que se quedan están en general más satisfechos con sus trabajos\n",
    "# 'StockOptionLevel': Los empleados que se quedan tienen un mayor nivel de stocks options"
   ]
  },
  {
   "cell_type": "code",
   "execution_count": null,
   "metadata": {
    "colab": {
     "base_uri": "https://localhost:8080/",
     "height": 304
    },
    "id": "nPPQHIxyx7YZ",
    "outputId": "f424db70-175c-4c91-8d38-da75a23321d7"
   },
   "outputs": [],
   "source": [
    "stayed_df.describe()"
   ]
  },
  {
   "cell_type": "code",
   "execution_count": null,
   "metadata": {
    "colab": {
     "base_uri": "https://localhost:8080/",
     "height": 1000
    },
    "id": "zBy4m89a08Sj",
    "outputId": "d6810dfa-9e77-4f08-8ec2-0bc8dd934c50"
   },
   "outputs": [],
   "source": [
    "correlations = employee_df.corr()\n",
    "f, ax = plt.subplots(figsize = (20, 20))\n",
    "sns.heatmap(correlations, annot = True)\n",
    "\n",
    "# Job level está altamente correlacionado con el número total de horas de trabajo\n",
    "# Monthly income está altamente correlacionado con Job level\n",
    "# Monthly income está altamente correlacionado con el número total de horas de trabajo\n",
    "# Age está altamente correlacionado con los ingresos mensuales\n"
   ]
  },
  {
   "cell_type": "code",
   "execution_count": null,
   "metadata": {
    "colab": {
     "base_uri": "https://localhost:8080/",
     "height": 717
    },
    "id": "btcWqUnfPcxW",
    "outputId": "4c188344-0ded-4570-ef56-b4af2afca6bc"
   },
   "outputs": [],
   "source": [
    "plt.figure(figsize=[25, 12])\n",
    "sns.countplot(x = 'Age', hue = 'Attrition', data = employee_df)"
   ]
  },
  {
   "cell_type": "code",
   "execution_count": null,
   "metadata": {
    "colab": {
     "base_uri": "https://localhost:8080/",
     "height": 1000
    },
    "id": "jpJtiorsjgfI",
    "outputId": "4019fc61-f19c-41ec-a4e7-1a2b5da13116"
   },
   "outputs": [],
   "source": [
    "plt.figure(figsize=[20,20])\n",
    "plt.subplot(411)\n",
    "sns.countplot(x = 'JobRole', hue = 'Attrition', data = employee_df)\n",
    "plt.subplot(412)\n",
    "sns.countplot(x = 'MaritalStatus', hue = 'Attrition', data = employee_df)\n",
    "plt.subplot(413)\n",
    "sns.countplot(x = 'JobInvolvement', hue = 'Attrition', data = employee_df)\n",
    "plt.subplot(414)\n",
    "sns.countplot(x = 'JobLevel', hue = 'Attrition', data = employee_df)\n",
    "\n",
    "# Los empleados solteros tienden a irse en comparación con los casados ​​y divorciados\n",
    "# Los representantes de ventas tienden a irse en comparación con cualquier otro trabajo\n",
    "# Los empleados menos involucrados tienden a dejar la empresa\n",
    "# Los menos experimentados (nivel laboral bajo) tienden a dejar la empresa"
   ]
  },
  {
   "cell_type": "code",
   "execution_count": null,
   "metadata": {
    "colab": {
     "base_uri": "https://localhost:8080/",
     "height": 459
    },
    "id": "gzAo8L5ybDs7",
    "outputId": "1c955cf9-b852-4ca2-b366-4f5f1cf7fef7"
   },
   "outputs": [],
   "source": [
    "\n",
    "# KDE (Kernel Density Estimate) se utiliza para visualizar la densidad de probabilidad de una variable continua.\n",
    "# KDE describe la densidad de probabilidad a diferentes valores en una variable continua.\n",
    "\n",
    "plt.figure(figsize=(12,7))\n",
    "\n",
    "sns.kdeplot(left_df['DistanceFromHome'], label = 'Employees who left', shade = True, color = 'r')\n",
    "sns.kdeplot(stayed_df['DistanceFromHome'], label = 'Employees who Stayed', shade = True, color = 'b')\n",
    "\n",
    "plt.xlabel('Distance From Home')\n"
   ]
  },
  {
   "cell_type": "code",
   "execution_count": null,
   "metadata": {
    "colab": {
     "base_uri": "https://localhost:8080/",
     "height": 459
    },
    "id": "U0cw6asrgZFh",
    "outputId": "10d5bc94-2c39-46ab-fafe-7f0eecd7b4ad"
   },
   "outputs": [],
   "source": [
    "plt.figure(figsize=(12,7))\n",
    "\n",
    "sns.kdeplot(left_df['YearsWithCurrManager'], label = 'Employees who left', shade = True, color = 'r')\n",
    "sns.kdeplot(stayed_df['YearsWithCurrManager'], label = 'Employees who Stayed', shade = True, color = 'b')\n",
    "\n",
    "plt.xlabel('Years With Current Manager')"
   ]
  },
  {
   "cell_type": "code",
   "execution_count": null,
   "metadata": {
    "colab": {
     "base_uri": "https://localhost:8080/",
     "height": 459
    },
    "id": "fQDpsZXqfygG",
    "outputId": "76be9f2d-e272-4f91-b747-1183eb3731ba"
   },
   "outputs": [],
   "source": [
    "plt.figure(figsize=(12,7))\n",
    "\n",
    "sns.kdeplot(left_df['TotalWorkingYears'], shade = True, label = 'Employees who left', color = 'r')\n",
    "sns.kdeplot(stayed_df['TotalWorkingYears'], shade = True, label = 'Employees who Stayed', color = 'b')\n",
    "\n",
    "plt.xlabel('Total Working Years')\n"
   ]
  },
  {
   "cell_type": "code",
   "execution_count": null,
   "metadata": {
    "colab": {
     "base_uri": "https://localhost:8080/",
     "height": 623
    },
    "id": "d-iOYim7Pcpr",
    "outputId": "8131e4d9-7b79-4cac-b147-a886e10cbaaf"
   },
   "outputs": [],
   "source": [
    "# Veamos el Gender vs. Monthly Income\n",
    "plt.figure(figsize=(15, 10))\n",
    "sns.boxplot(x = 'MonthlyIncome', y = 'Gender', data = employee_df)"
   ]
  },
  {
   "cell_type": "code",
   "execution_count": null,
   "metadata": {
    "colab": {
     "base_uri": "https://localhost:8080/",
     "height": 623
    },
    "id": "Dsd9DB9rby-3",
    "outputId": "ee2382b4-3d6e-42cf-af09-653dcacaa4e8"
   },
   "outputs": [],
   "source": [
    "# Veamos el monthly income vs. job role\n",
    "plt.figure(figsize=(15, 10))\n",
    "sns.boxplot(x = 'MonthlyIncome', y = 'JobRole', data = employee_df)"
   ]
  },
  {
   "cell_type": "markdown",
   "metadata": {
    "id": "Y0GmpAjG3GiH"
   },
   "source": [
    "# TAREA #4: CREAR LOS DATA SETS DE ENTRENAMIENTO Y TESTING Y LLEVAR A CABO LA LIMPIEZA DE DATOS"
   ]
  },
  {
   "cell_type": "code",
   "execution_count": null,
   "metadata": {
    "colab": {
     "base_uri": "https://localhost:8080/",
     "height": 206
    },
    "id": "FK5ggiVPsJE9",
    "outputId": "82ef943c-49fa-4943-c857-a5a111f58559"
   },
   "outputs": [],
   "source": [
    "employee_df.head(3)"
   ]
  },
  {
   "cell_type": "code",
   "execution_count": null,
   "metadata": {
    "colab": {
     "base_uri": "https://localhost:8080/",
     "height": 402
    },
    "id": "1_nb-D8H3cK-",
    "outputId": "b0dcb18a-5aa7-40f1-b766-cc72c6e5e038"
   },
   "outputs": [],
   "source": [
    "X_cat = employee_df[['BusinessTravel', 'Department', 'EducationField', 'Gender', 'JobRole', 'MaritalStatus']]\n",
    "X_cat"
   ]
  },
  {
   "cell_type": "code",
   "execution_count": null,
   "metadata": {
    "id": "qwzY8rj0uV-a"
   },
   "outputs": [],
   "source": [
    "from sklearn.preprocessing import OneHotEncoder\n",
    "onehotencoder = OneHotEncoder()\n",
    "X_cat = onehotencoder.fit_transform(X_cat).toarray()"
   ]
  },
  {
   "cell_type": "code",
   "execution_count": null,
   "metadata": {
    "colab": {
     "base_uri": "https://localhost:8080/",
     "height": 34
    },
    "id": "dMjFQDQzucrh",
    "outputId": "0b431d97-7c48-4f2d-a2a0-089a529cfafe"
   },
   "outputs": [],
   "source": [
    "X_cat.shape"
   ]
  },
  {
   "cell_type": "code",
   "execution_count": null,
   "metadata": {
    "id": "nWRIDQWquc2m"
   },
   "outputs": [],
   "source": [
    "X_cat = pd.DataFrame(X_cat)"
   ]
  },
  {
   "cell_type": "code",
   "execution_count": null,
   "metadata": {
    "colab": {
     "base_uri": "https://localhost:8080/",
     "height": 402
    },
    "id": "3sc6kz_oucxq",
    "outputId": "f5e85af6-98b5-42f7-8ab2-812f0816a55f"
   },
   "outputs": [],
   "source": [
    "X_cat "
   ]
  },
  {
   "cell_type": "code",
   "execution_count": null,
   "metadata": {
    "colab": {
     "base_uri": "https://localhost:8080/",
     "height": 422
    },
    "id": "_2iF77wCu79A",
    "outputId": "234942f3-aa16-4fae-8137-fc2d99806a9c"
   },
   "outputs": [],
   "source": [
    "# Notemos que hemos elminado la columna target, 'Atrittion'\n",
    "X_numerical = employee_df[['Age', 'DailyRate', 'DistanceFromHome',\t'Education', 'EnvironmentSatisfaction', 'HourlyRate', 'JobInvolvement',\t'JobLevel',\t'JobSatisfaction',\t'MonthlyIncome',\t'MonthlyRate',\t'NumCompaniesWorked',\t'OverTime',\t'PercentSalaryHike', 'PerformanceRating',\t'RelationshipSatisfaction',\t'StockOptionLevel',\t'TotalWorkingYears'\t,'TrainingTimesLastYear'\t, 'WorkLifeBalance',\t'YearsAtCompany'\t,'YearsInCurrentRole', 'YearsSinceLastPromotion',\t'YearsWithCurrManager']]\n",
    "X_numerical"
   ]
  },
  {
   "cell_type": "code",
   "execution_count": null,
   "metadata": {
    "colab": {
     "base_uri": "https://localhost:8080/",
     "height": 422
    },
    "id": "7EucHJDH0wf0",
    "outputId": "eab8cc89-5722-43f1-d733-60755939a0c8"
   },
   "outputs": [],
   "source": [
    "X_all = pd.concat([X_cat, X_numerical], axis = 1)\n",
    "X_all"
   ]
  },
  {
   "cell_type": "code",
   "execution_count": null,
   "metadata": {
    "id": "uZxWTuLp0wdW"
   },
   "outputs": [],
   "source": [
    "from sklearn.preprocessing import MinMaxScaler\n",
    "scaler = MinMaxScaler()\n",
    "X = scaler.fit_transform(X_all)"
   ]
  },
  {
   "cell_type": "code",
   "execution_count": null,
   "metadata": {
    "colab": {
     "base_uri": "https://localhost:8080/",
     "height": 235
    },
    "id": "Wf_G8A_G1l2c",
    "outputId": "70fa8803-f5b1-47de-89f5-fa2e06a2d3e6"
   },
   "outputs": [],
   "source": [
    "X"
   ]
  },
  {
   "cell_type": "code",
   "execution_count": null,
   "metadata": {
    "colab": {
     "base_uri": "https://localhost:8080/",
     "height": 218
    },
    "id": "ASEus5N81Zq8",
    "outputId": "7d565203-a90d-41f4-b119-afebe2457273"
   },
   "outputs": [],
   "source": [
    "y = employee_df['Attrition']\n",
    "y"
   ]
  },
  {
   "cell_type": "markdown",
   "metadata": {
    "id": "2geMzGITbZPJ"
   },
   "source": [
    "# TAREA #5: ENTENDER LA TEORÍA DETRÁS DE LA REGRESIÓN LOGÍSTICA, REDES NEURONALES ALRTIFICIALES Y CLASIFICADORES DE BOSQUES ALEATORIOS"
   ]
  },
  {
   "cell_type": "markdown",
   "metadata": {
    "id": "2LGXlsW-qY6T"
   },
   "source": [
    "![alt text](https://drive.google.com/uc?id=1zC0o6mkPWhlIwbs1J2LXTVv1IjtTgBLw)"
   ]
  },
  {
   "cell_type": "markdown",
   "metadata": {
    "id": "RAhjTl8rqfEP"
   },
   "source": [
    "![alt text](https://drive.google.com/uc?id=1JahiZRxjM1gd1cdSlJXBsSmR3cCrZEwr)"
   ]
  },
  {
   "cell_type": "markdown",
   "metadata": {
    "id": "BSf1ttexqoAy"
   },
   "source": [
    "![alt text](https://drive.google.com/uc?id=1Vf81FJgCX518kr8FFS-sgzT6Nu7yjMQA\n",
    ")"
   ]
  },
  {
   "cell_type": "markdown",
   "metadata": {
    "id": "thTF2leZXbB-"
   },
   "source": [
    "![alt text](https://drive.google.com/uc?id=11_L_2NlgtZJulG5BI6Lj8MMGpO5F_QJV)"
   ]
  },
  {
   "cell_type": "markdown",
   "metadata": {
    "id": "mEyfNrkaqxLi"
   },
   "source": [
    "![alt text](https://drive.google.com/uc?id=1Vf81FJgCX518kr8FFS-sgzT6Nu7yjMQA)"
   ]
  },
  {
   "cell_type": "markdown",
   "metadata": {
    "id": "FfBciHaVq2i8"
   },
   "source": [
    "![alt text](https://drive.google.com/uc?id=1azYXfWAiUl1LkzEJXYN-GRZneTfzMsVV)"
   ]
  },
  {
   "cell_type": "markdown",
   "metadata": {
    "id": "lweiI-Krrfvc"
   },
   "source": [
    "# TAREA #6: ENTENDER COMO SE EVALUAN LOS MODELOS DE CLASIFICACIÓN"
   ]
  },
  {
   "cell_type": "markdown",
   "metadata": {
    "id": "FbyUpOKkrCxV"
   },
   "source": [
    "![alt text](https://drive.google.com/uc?id=1Mj1ZhIqcnJl1tfIHeq6R6T8LVzbodtqa)"
   ]
  },
  {
   "cell_type": "markdown",
   "metadata": {
    "id": "O4E1szzdrMpA"
   },
   "source": [
    "![alt text](https://drive.google.com/uc?id=1095MBU9oYD1eE65fTrz-8sFgYbbvwAuH)"
   ]
  },
  {
   "cell_type": "markdown",
   "metadata": {
    "id": "hXpQYgD0uCBj"
   },
   "source": [
    "![alt text](https://drive.google.com/uc?id=1OojsDQecO-69GQFDYsULNhqgxAP9PrU3)"
   ]
  },
  {
   "cell_type": "markdown",
   "metadata": {
    "id": "mDlTGjekuF4I"
   },
   "source": [
    "![alt text](https://drive.google.com/uc?id=1G1-il6xFMUuz3nd78kvwiP3mcuXqZM3U)"
   ]
  },
  {
   "cell_type": "markdown",
   "metadata": {
    "id": "otudfveOME9P"
   },
   "source": [
    "# TAREA #7: ENTRENAR Y EVALUAR UN CLASIFICADOR UTILIZANDO LA REGRESIÓN LOGÍSTICA"
   ]
  },
  {
   "cell_type": "code",
   "execution_count": null,
   "metadata": {
    "id": "RgFq3h993cIz"
   },
   "outputs": [],
   "source": [
    "from sklearn.model_selection import train_test_split\n",
    "X_train, X_test, y_train, y_test = train_test_split(X, y, test_size = 0.25)"
   ]
  },
  {
   "cell_type": "code",
   "execution_count": null,
   "metadata": {
    "colab": {
     "base_uri": "https://localhost:8080/",
     "height": 34
    },
    "id": "DqIp8uvJ3cGi",
    "outputId": "6ef0bb1e-9add-4bf4-b610-21e06cfb8963"
   },
   "outputs": [],
   "source": [
    "X_train.shape"
   ]
  },
  {
   "cell_type": "code",
   "execution_count": null,
   "metadata": {
    "colab": {
     "base_uri": "https://localhost:8080/",
     "height": 34
    },
    "id": "d4wfApza3cEc",
    "outputId": "8c35277e-5ee6-4817-b5e1-77fb7ea32565"
   },
   "outputs": [],
   "source": [
    "X_test.shape"
   ]
  },
  {
   "cell_type": "code",
   "execution_count": null,
   "metadata": {
    "id": "f-yF03L-MMz0"
   },
   "outputs": [],
   "source": [
    "from sklearn.linear_model import LogisticRegression\n",
    "from sklearn.metrics import accuracy_score\n",
    "\n",
    "model = LogisticRegression()\n",
    "model.fit(X_train, y_train)\n",
    "\n",
    "y_pred = model.predict(X_test)\n"
   ]
  },
  {
   "cell_type": "code",
   "execution_count": null,
   "metadata": {
    "colab": {
     "base_uri": "https://localhost:8080/",
     "height": 302
    },
    "id": "jDj4uNvjNWkK",
    "outputId": "0da0ccdb-5919-4e1a-c42f-23a4770d260c"
   },
   "outputs": [],
   "source": [
    "y_pred"
   ]
  },
  {
   "cell_type": "code",
   "execution_count": null,
   "metadata": {
    "colab": {
     "base_uri": "https://localhost:8080/",
     "height": 34
    },
    "id": "7mlqam98MgCG",
    "outputId": "b82da8d1-6051-4cd9-e449-4302288c4c2d"
   },
   "outputs": [],
   "source": [
    "from sklearn.metrics import confusion_matrix, classification_report\n",
    "\n",
    "print(\"Accuracy {} %\".format( 100 * accuracy_score(y_pred, y_test)))\n"
   ]
  },
  {
   "cell_type": "code",
   "execution_count": null,
   "metadata": {
    "colab": {
     "base_uri": "https://localhost:8080/",
     "height": 282
    },
    "id": "OSfFqmKHNuJe",
    "outputId": "0a7af3c9-32ce-43ac-dbf5-9deafcda4220"
   },
   "outputs": [],
   "source": [
    "# Resultados en el Conjunto de Testing\n",
    "cm = confusion_matrix(y_pred, y_test)\n",
    "sns.heatmap(cm, annot=True)\n"
   ]
  },
  {
   "cell_type": "code",
   "execution_count": null,
   "metadata": {
    "colab": {
     "base_uri": "https://localhost:8080/",
     "height": 168
    },
    "id": "tussFqBMNxZX",
    "outputId": "87bf3f86-2e8e-41fe-bde6-95d911733d8d"
   },
   "outputs": [],
   "source": [
    "print(classification_report(y_test, y_pred))"
   ]
  },
  {
   "cell_type": "markdown",
   "metadata": {
    "id": "o0LevjwDP3Zk"
   },
   "source": [
    "# TAREA #8: ENTRENAR Y EVALUR UN CLASIFICADOR UTILIZANDO BOSQUES ALEATORIOS"
   ]
  },
  {
   "cell_type": "code",
   "execution_count": null,
   "metadata": {
    "colab": {
     "base_uri": "https://localhost:8080/",
     "height": 151
    },
    "id": "A9CInUwvP9nF",
    "outputId": "bc199a4d-b327-45f6-f84b-5aa67a7636f5"
   },
   "outputs": [],
   "source": [
    "from sklearn.ensemble import RandomForestClassifier\n",
    "\n",
    "model = RandomForestClassifier()\n",
    "model.fit(X_train, y_train)\n"
   ]
  },
  {
   "cell_type": "code",
   "execution_count": null,
   "metadata": {
    "id": "X5x0CZkgQSsY"
   },
   "outputs": [],
   "source": [
    "y_pred = model.predict(X_test)"
   ]
  },
  {
   "cell_type": "code",
   "execution_count": null,
   "metadata": {
    "colab": {
     "base_uri": "https://localhost:8080/",
     "height": 282
    },
    "id": "_uEjeW4-QU36",
    "outputId": "f9d3a877-394f-4684-b265-74e229a084ff"
   },
   "outputs": [],
   "source": [
    "# Resultados en el Conjunto de Testing\n",
    "cm = confusion_matrix(y_pred, y_test)\n",
    "sns.heatmap(cm, annot=True)"
   ]
  },
  {
   "cell_type": "code",
   "execution_count": null,
   "metadata": {
    "colab": {
     "base_uri": "https://localhost:8080/",
     "height": 168
    },
    "id": "Puv35JH6QxFt",
    "outputId": "410b7926-9cf2-46e9-cdec-28719752a610"
   },
   "outputs": [],
   "source": [
    "print(classification_report(y_test, y_pred))"
   ]
  },
  {
   "cell_type": "markdown",
   "metadata": {
    "id": "53qDZFRn3-S1"
   },
   "source": [
    "# TAREA #8: ENTRENAR Y EVALUR UN CLASIFICADOR UTILIZANDO DEEP LEARNING"
   ]
  },
  {
   "cell_type": "code",
   "execution_count": null,
   "metadata": {
    "id": "cilnKfMv1wP1"
   },
   "outputs": [],
   "source": [
    "import tensorflow as tf"
   ]
  },
  {
   "cell_type": "code",
   "execution_count": null,
   "metadata": {
    "id": "Yl6fmPJj3cCX"
   },
   "outputs": [],
   "source": [
    "model = tf.keras.models.Sequential()\n",
    "model.add(tf.keras.layers.Dense(units=500, activation='relu', input_shape=(50, )))\n",
    "model.add(tf.keras.layers.Dense(units=500, activation='relu'))\n",
    "model.add(tf.keras.layers.Dense(units=500, activation='relu'))\n",
    "model.add(tf.keras.layers.Dense(units=1, activation='sigmoid'))\n"
   ]
  },
  {
   "cell_type": "code",
   "execution_count": null,
   "metadata": {
    "id": "GUd71odB4v-i"
   },
   "outputs": [],
   "source": [
    "model.summary()"
   ]
  },
  {
   "cell_type": "code",
   "execution_count": null,
   "metadata": {
    "id": "BYmvNpNw5Act"
   },
   "outputs": [],
   "source": [
    "model.compile(optimizer='Adam', loss='binary_crossentropy', metrics = ['accuracy'])"
   ]
  },
  {
   "cell_type": "code",
   "execution_count": null,
   "metadata": {
    "colab": {
     "base_uri": "https://localhost:8080/",
     "height": 1000
    },
    "id": "tpia0VBS5Ljw",
    "outputId": "c6f890c7-f6d9-445c-e019-efd347171ee3"
   },
   "outputs": [],
   "source": [
    "# oversampler = SMOTE(random_state=0)\n",
    "# smote_train, smote_target = oversampler.fit_sample(X_train, y_train)\n",
    "# epochs_hist = model.fit(smote_train, smote_target, epochs = 100, batch_size = 50)\n",
    "epochs_hist = model.fit(X_train, y_train, epochs = 100, batch_size = 50)"
   ]
  },
  {
   "cell_type": "code",
   "execution_count": null,
   "metadata": {
    "id": "dS0rE8aoUO05"
   },
   "outputs": [],
   "source": [
    "y_pred = model.predict(X_test)\n",
    "y_pred = (y_pred > 0.5)\n"
   ]
  },
  {
   "cell_type": "code",
   "execution_count": null,
   "metadata": {
    "colab": {
     "base_uri": "https://localhost:8080/",
     "height": 1000
    },
    "id": "k4PYwm6R25r6",
    "outputId": "0c27b56e-1450-4c39-f1fc-b56a3e3641e5"
   },
   "outputs": [],
   "source": [
    "y_pred"
   ]
  },
  {
   "cell_type": "code",
   "execution_count": null,
   "metadata": {
    "colab": {
     "base_uri": "https://localhost:8080/",
     "height": 34
    },
    "id": "AfQ5pPAS3CQF",
    "outputId": "05800631-1332-452f-82b4-b3f1465071ee"
   },
   "outputs": [],
   "source": [
    "epochs_hist.history.keys()"
   ]
  },
  {
   "cell_type": "code",
   "execution_count": null,
   "metadata": {
    "colab": {
     "base_uri": "https://localhost:8080/",
     "height": 312
    },
    "id": "eXiDop_l5erJ",
    "outputId": "7f112424-24a8-449b-e065-9b79f603332c"
   },
   "outputs": [],
   "source": [
    "plt.plot(epochs_hist.history['loss'])\n",
    "plt.title('Model Loss Progress During Training')\n",
    "plt.xlabel('Epoch')\n",
    "plt.ylabel('Training Loss')\n",
    "plt.legend(['Training Loss'])"
   ]
  },
  {
   "cell_type": "code",
   "execution_count": null,
   "metadata": {
    "colab": {
     "base_uri": "https://localhost:8080/",
     "height": 312
    },
    "id": "aJ3ZbRjwa_HK",
    "outputId": "ccb4d1fc-c8c8-4d26-d872-d96252884465"
   },
   "outputs": [],
   "source": [
    "plt.plot(epochs_hist.history['accuracy'])\n",
    "plt.title('Model Accuracy Progress During Training')\n",
    "plt.xlabel('Epoch')\n",
    "plt.ylabel('Training Accuracy')\n",
    "plt.legend(['Training Accuracy'])"
   ]
  },
  {
   "cell_type": "code",
   "execution_count": null,
   "metadata": {
    "colab": {
     "base_uri": "https://localhost:8080/",
     "height": 282
    },
    "id": "xaWcKcA73Rpa",
    "outputId": "d249cc16-abbd-4f09-8844-f8f66ed7cdaa"
   },
   "outputs": [],
   "source": [
    "# Resultados en el Conjunto de Testing\n",
    "cm = confusion_matrix(y_test, y_pred)\n",
    "sns.heatmap(cm, annot=True)\n"
   ]
  },
  {
   "cell_type": "code",
   "execution_count": null,
   "metadata": {
    "colab": {
     "base_uri": "https://localhost:8080/",
     "height": 168
    },
    "id": "NyBQWXNn3pN9",
    "outputId": "8ec79ceb-b6cc-4275-c441-12b44149868e"
   },
   "outputs": [],
   "source": [
    "print(classification_report(y_test, y_pred))"
   ]
  },
  {
   "cell_type": "markdown",
   "metadata": {
    "id": "27OgYEJu9EFV"
   },
   "source": [
    "# ¡EXCELENTE TRABAJO! USTED DEBE ESTAR ORGULLOSO DE SUS HABILIDADES RECIENTEMENTE ADQUIRIDAS"
   ]
  }
 ],
 "metadata": {
  "colab": {
   "collapsed_sections": [],
   "name": "Solución Departamento de Recursos Humanos",
   "provenance": []
  },
  "kernelspec": {
   "display_name": "Python 3",
   "language": "python",
   "name": "python3"
  },
  "language_info": {
   "codemirror_mode": {
    "name": "ipython",
    "version": 3
   },
   "file_extension": ".py",
   "mimetype": "text/x-python",
   "name": "python",
   "nbconvert_exporter": "python",
   "pygments_lexer": "ipython3",
   "version": "3.7.6"
  }
 },
 "nbformat": 4,
 "nbformat_minor": 1
}
